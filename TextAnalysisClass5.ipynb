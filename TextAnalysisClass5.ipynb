{
  "nbformat": 4,
  "nbformat_minor": 0,
  "metadata": {
    "colab": {
      "provenance": [],
      "authorship_tag": "ABX9TyO7pC68zoYc+5ep8FQDNGT6",
      "include_colab_link": true
    },
    "kernelspec": {
      "name": "python3",
      "display_name": "Python 3"
    },
    "language_info": {
      "name": "python"
    }
  },
  "cells": [
    {
      "cell_type": "markdown",
      "metadata": {
        "id": "view-in-github",
        "colab_type": "text"
      },
      "source": [
        "<a href=\"https://colab.research.google.com/github/tfindiamooc/mlp/blob/main/TextAnalysisClass5.ipynb\" target=\"_parent\"><img src=\"https://colab.research.google.com/assets/colab-badge.svg\" alt=\"Open In Colab\"/></a>"
      ]
    },
    {
      "cell_type": "markdown",
      "source": [
        "## Lesson #5: Reading Text Data from CSV File (Quickstart)\n",
        "\n",
        "Welcome back! In this part of the lesson, we'll demonstrate data reading process from csv file\n",
        "\n",
        "This approach simulates a more realistic scenario where your text data is stored in an external file. You will learn how to handle reading data from a local file, which is a common task in machine learning projects.\n",
        "\n"
      ],
      "metadata": {
        "id": "61QEwhNPWdat"
      }
    },
    {
      "cell_type": "markdown",
      "source": [
        "Let's start by generating and saving our CSV data to a local file, and then reading it back in!"
      ],
      "metadata": {
        "id": "vBYHGeB2WtRG"
      }
    },
    {
      "cell_type": "code",
      "execution_count": 2,
      "metadata": {
        "colab": {
          "base_uri": "https://localhost:8080/"
        },
        "id": "EWsRXcLVWRJX",
        "outputId": "78575a83-e5cd-4099-e06e-fdd943f43554"
      },
      "outputs": [
        {
          "output_type": "stream",
          "name": "stdout",
          "text": [
            "CSV file 'text_data.csv' created successfully in the local environment.\n"
          ]
        }
      ],
      "source": [
        "# @title Review Generation Code\n",
        "import pandas as pd\n",
        "import numpy as np # Import numpy for creating lists\n",
        "\n",
        "# 1. Sample data lists (text and labels)\n",
        "text_data_list = [\n",
        "    \"This movie was absolutely fantastic! The acting was superb and the plot kept me hooked.\",\n",
        "    \"I wasted my time and money. The plot was nonsensical and the acting was atrocious.\",\n",
        "    \"The book was okay, nothing special.  The characters were a bit bland.\",\n",
        "    \"I loved this product! It exceeded my expectations. Highly recommend it.\",\n",
        "    \"This is the worst service I have ever experienced.  Avoid at all costs!\",\n",
        "    \"A decent read, quite enjoyable in parts.  The writing style was good.\",\n",
        "]\n",
        "\n",
        "label_data_list = [\n",
        "    \"positive\",\n",
        "    \"negative\",\n",
        "    \"neutral\",\n",
        "    \"positive\",\n",
        "    \"negative\",\n",
        "    \"neutral\",\n",
        "]\n",
        "\n",
        "# 2. Create a pandas DataFrame from the lists\n",
        "data_dict = {'text': text_data_list, 'label': label_data_list}\n",
        "data = pd.DataFrame(data_dict)\n",
        "\n",
        "# 3. Define the CSV file name\n",
        "csv_file_name = 'text_data.csv'\n",
        "\n",
        "# 4. Save the DataFrame to a local CSV file\n",
        "data.to_csv(csv_file_name, index=False) # index=False prevents writing DataFrame index to CSV\n",
        "\n",
        "print(f\"CSV file '{csv_file_name}' created successfully in the local environment.\")"
      ]
    },
    {
      "cell_type": "markdown",
      "source": [
        "1.  **Sample CSV Data (Generated Programmatically)**:\n",
        "    *   Instead of a string, we now create the data programmatically using Python lists: `text_data_list` and `label_data_list`. These lists hold the same example text documents and labels as before.\n",
        "    *   We then create a pandas DataFrame `data` directly from these lists using a dictionary.\n",
        "\n",
        "2.  **`data.to_csv(csv_file_name, index=False)`**:\n",
        "    *   This line **saves the DataFrame `data` to a local CSV file**.\n",
        "    *   `csv_file_name = 'text_data.csv'`: We define the name of the CSV file as `text_data.csv`. This file will be created in the current Colab environment's file storage (you can see it in the file pane on the left in Colab).\n",
        "    *   `index=False`:  This argument prevents pandas from writing the DataFrame index as a column in the CSV file. We usually don't need to save the index to the CSV file."
      ],
      "metadata": {
        "id": "RL2Ub63AYL9K"
      }
    },
    {
      "cell_type": "code",
      "source": [
        "# 1. Read the CSV file back into a pandas DataFrame\n",
        "data_from_csv = pd.read_csv(csv_file_name)\n",
        "\n",
        "# 2. Display the first few rows of the DataFrame read from CSV\n",
        "print(\"\\nFirst few rows of the DataFrame read from CSV file:\")\n",
        "print(data_from_csv.head())\n",
        "\n",
        "# 3. Display information about the DataFrame (data types, non-null values)\n",
        "print(\"\\nDataFrame Information (from CSV file):\")\n",
        "print(data_from_csv.info())"
      ],
      "metadata": {
        "colab": {
          "base_uri": "https://localhost:8080/"
        },
        "id": "Uat8PKGvXsnr",
        "outputId": "7721e3d8-1a67-4527-b8df-9a97a7bcba6b"
      },
      "execution_count": 3,
      "outputs": [
        {
          "output_type": "stream",
          "name": "stdout",
          "text": [
            "\n",
            "First few rows of the DataFrame read from CSV file:\n",
            "                                                text     label\n",
            "0  This movie was absolutely fantastic! The actin...  positive\n",
            "1  I wasted my time and money. The plot was nonse...  negative\n",
            "2  The book was okay, nothing special.  The chara...   neutral\n",
            "3  I loved this product! It exceeded my expectati...  positive\n",
            "4  This is the worst service I have ever experien...  negative\n",
            "\n",
            "DataFrame Information (from CSV file):\n",
            "<class 'pandas.core.frame.DataFrame'>\n",
            "RangeIndex: 6 entries, 0 to 5\n",
            "Data columns (total 2 columns):\n",
            " #   Column  Non-Null Count  Dtype \n",
            "---  ------  --------------  ----- \n",
            " 0   text    6 non-null      object\n",
            " 1   label   6 non-null      object\n",
            "dtypes: object(2)\n",
            "memory usage: 228.0+ bytes\n",
            "None\n"
          ]
        }
      ]
    },
    {
      "cell_type": "markdown",
      "source": [
        "### Understanding the Code and Loaded Data\n",
        "\n",
        "In the code above, we have demonstrated how to read text data from a CSV format into a pandas DataFrame. Let's break down the steps:\n",
        "\n",
        "1.  **`pd.read_csv(csv_file_name)`**:\n",
        "    *   This line **reads the CSV file we just created** (`text_data.csv`) back into a new pandas DataFrame called `data_from_csv`.\n",
        "    *   Now, `pd.read_csv()` is reading from an actual file in the local file system, simulating reading from an external data source.\n",
        "\n",
        "2.  **`data_from_csv.head()`**:\n",
        "    *   This displays the first few rows of the DataFrame that we read from the CSV file (`data_from_csv`). You should see the same `text` and `label` columns as before, confirming that the data has been saved to and read from the CSV file correctly.\n",
        "\n",
        "3.  **`data_from_csv.info()`**:\n",
        "    *   This provides the same summary information about the DataFrame read from the CSV file, as explained in Part 1.\n",
        "\n",
        "**Key Points for Text Classification Data in CSV:**\n",
        "\n",
        "*   **Text Column:**  Identify the column in your DataFrame that contains the text documents you want to classify. In our example, it's the `text` column.\n",
        "*   **Label Column (Target):** Identify the column that contains the class labels or categories for each text document. In our example, it's the `label` column.  These labels are what your classification model will learn to predict.\n",
        "*   **DataFrame Structure:**  You will typically work with a pandas DataFrame where each row represents a text document, and columns represent features (including the text itself and the labels).\n",
        "\n",
        "By running this code, you will now not only read text data but also experience the process of generating and saving a CSV file locally and then reading it back, which is a more common workflow in data science projects. You are now even better prepared to handle real-world text data for classification!"
      ],
      "metadata": {
        "id": "L9g1HlxPXzqS"
      }
    }
  ]
}