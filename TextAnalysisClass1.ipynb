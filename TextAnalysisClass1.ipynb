{
  "nbformat": 4,
  "nbformat_minor": 0,
  "metadata": {
    "colab": {
      "provenance": [],
      "authorship_tag": "ABX9TyOLskaH/X45x1FSRGTv+9x/",
      "include_colab_link": true
    },
    "kernelspec": {
      "name": "python3",
      "display_name": "Python 3"
    },
    "language_info": {
      "name": "python"
    }
  },
  "cells": [
    {
      "cell_type": "markdown",
      "metadata": {
        "id": "view-in-github",
        "colab_type": "text"
      },
      "source": [
        "<a href=\"https://colab.research.google.com/github/tfindiamooc/mlp/blob/main/TextAnalysisClass1.ipynb\" target=\"_parent\"><img src=\"https://colab.research.google.com/assets/colab-badge.svg\" alt=\"Open In Colab\"/></a>"
      ]
    },
    {
      "cell_type": "markdown",
      "source": [
        "# Lesson #1: Getting Started with Text Data - Preprocessing Basics in Scikit-learn"
      ],
      "metadata": {
        "id": "Cp7QZQ4FwVae"
      }
    },
    {
      "cell_type": "markdown",
      "source": [
        "What to expect:\n",
        "\n",
        "* **Top-Down & Code-First**: We'll jump into code immediately and then explain the concepts as we go. Students will see working code from the first few minutes.\n",
        "* **Start Simple, Iterate**: We begin with very basic preprocessing and gradually add more steps.\n",
        "Real-World Relevance (Implicit): We'll frame text data as something encountered in everyday applications (reviews, articles, etc.), and the practical exercises will build towards real-world text analysis tasks in later lessons.\n",
        "* **Encourage Experimentation**: The lesson will include prompts for students to modify the code and observe the results.\n",
        "* **Focus on Practical Skills**: By the end of this lesson, students will be able to write Python code using scikit-learn to perform basic text preprocessing.\n",
        "\n"
      ],
      "metadata": {
        "id": "_Lp7Ewz1wZny"
      }
    },
    {
      "cell_type": "markdown",
      "source": [
        "## Introduction - What is Text Data and Why Preprocess?\n",
        "\n",
        "* Briefly explain what text data is and why it's important in today's world (examples: online reviews, social media, news articles, documents).\n",
        "\n",
        "* Highlight that raw text is messy and needs cleaning before machine learning models can understand it. Analogy: \"Like cleaning ingredients before cooking!\"\n",
        "\n",
        "* Mention that in this lesson, we'll start with the cleaning part – preprocessing."
      ],
      "metadata": {
        "id": "yqh1sbqKw--Y"
      }
    },
    {
      "cell_type": "code",
      "execution_count": 3,
      "metadata": {
        "id": "29zNeWhDvyEs",
        "colab": {
          "base_uri": "https://localhost:8080/"
        },
        "outputId": "7e352796-e5bb-4f7e-b2e8-24571fd9123c"
      },
      "outputs": [
        {
          "output_type": "stream",
          "name": "stdout",
          "text": [
            "Vocabulary:\n",
            "['first' 'is' 'number' 'one' 'second' 'sentence' 'the' 'this' 'three']\n",
            "\n",
            "Document-Term Matrix (Counts):\n",
            "[[1 1 0 0 0 1 1 1 0]\n",
            " [0 1 0 1 1 1 1 1 0]\n",
            " [0 0 1 0 0 1 0 0 1]\n",
            " [1 1 0 0 0 1 1 1 0]]\n"
          ]
        }
      ],
      "source": [
        "from sklearn.feature_extraction.text import CountVectorizer\n",
        "\n",
        "corpus = [\n",
        "    \"This is the first sentence.\",\n",
        "    \"This one is the second sentence.\",\n",
        "    \"Sentence number three.\",\n",
        "    \"Is this the first sentence?\",\n",
        "]\n",
        "\n",
        "vectorizer = CountVectorizer()\n",
        "vectorizer.fit(corpus) # \"Learn\" vocabulary from the corpus\n",
        "X = vectorizer.transform(corpus) # \"Transform\" text to numbers\n",
        "\n",
        "print(\"Vocabulary:\")\n",
        "print(vectorizer.get_feature_names_out()) # Show the words it learned\n",
        "\n",
        "print(\"\\nDocument-Term Matrix (Counts):\")\n",
        "print(X.toarray()) # Show the numerical representation of the text"
      ]
    },
    {
      "cell_type": "markdown",
      "source": [
        "Run the code and show the output.\n",
        "* Explain `CountVectorizer` in simple terms: \"*It's like a tool that counts words.*\"\n",
        "\n",
        "* **Vocabulary**: \"Look at 'Vocabulary' - these are all the unique words CountVectorizer found in our text.\"\n",
        "\n",
        "* **Document-Term Matrix**: \"This matrix shows how many times each word appears in each sentence. Each row is a sentence, each column is a word from the vocabulary.\"\n",
        "\n",
        "* Emphasize: \"Machine learning models work with numbers, not text. `CountVectorizer` helps us convert text to numbers!\""
      ],
      "metadata": {
        "id": "ndv22vakxN_K"
      }
    },
    {
      "cell_type": "code",
      "source": [
        "import pandas as pd\n",
        "\n",
        "df = pd.DataFrame(X.toarray(), columns=vectorizer.get_feature_names_out())\n",
        "df"
      ],
      "metadata": {
        "colab": {
          "base_uri": "https://localhost:8080/",
          "height": 174
        },
        "id": "xSjarHxh_t58",
        "outputId": "cb5e0b6b-7ca0-4b9d-c698-c54a3a5aef85"
      },
      "execution_count": 2,
      "outputs": [
        {
          "output_type": "execute_result",
          "data": {
            "text/plain": [
              "   first  is  number  one  second  sentence  the  this  three\n",
              "0      1   1       0    0       0         1    1     1      0\n",
              "1      0   1       0    1       1         1    1     1      0\n",
              "2      0   0       1    0       0         1    0     0      1\n",
              "3      1   1       0    0       0         1    1     1      0"
            ],
            "text/html": [
              "\n",
              "  <div id=\"df-9012455e-19e5-4f36-be07-2fcfc46b15ea\" class=\"colab-df-container\">\n",
              "    <div>\n",
              "<style scoped>\n",
              "    .dataframe tbody tr th:only-of-type {\n",
              "        vertical-align: middle;\n",
              "    }\n",
              "\n",
              "    .dataframe tbody tr th {\n",
              "        vertical-align: top;\n",
              "    }\n",
              "\n",
              "    .dataframe thead th {\n",
              "        text-align: right;\n",
              "    }\n",
              "</style>\n",
              "<table border=\"1\" class=\"dataframe\">\n",
              "  <thead>\n",
              "    <tr style=\"text-align: right;\">\n",
              "      <th></th>\n",
              "      <th>first</th>\n",
              "      <th>is</th>\n",
              "      <th>number</th>\n",
              "      <th>one</th>\n",
              "      <th>second</th>\n",
              "      <th>sentence</th>\n",
              "      <th>the</th>\n",
              "      <th>this</th>\n",
              "      <th>three</th>\n",
              "    </tr>\n",
              "  </thead>\n",
              "  <tbody>\n",
              "    <tr>\n",
              "      <th>0</th>\n",
              "      <td>1</td>\n",
              "      <td>1</td>\n",
              "      <td>0</td>\n",
              "      <td>0</td>\n",
              "      <td>0</td>\n",
              "      <td>1</td>\n",
              "      <td>1</td>\n",
              "      <td>1</td>\n",
              "      <td>0</td>\n",
              "    </tr>\n",
              "    <tr>\n",
              "      <th>1</th>\n",
              "      <td>0</td>\n",
              "      <td>1</td>\n",
              "      <td>0</td>\n",
              "      <td>1</td>\n",
              "      <td>1</td>\n",
              "      <td>1</td>\n",
              "      <td>1</td>\n",
              "      <td>1</td>\n",
              "      <td>0</td>\n",
              "    </tr>\n",
              "    <tr>\n",
              "      <th>2</th>\n",
              "      <td>0</td>\n",
              "      <td>0</td>\n",
              "      <td>1</td>\n",
              "      <td>0</td>\n",
              "      <td>0</td>\n",
              "      <td>1</td>\n",
              "      <td>0</td>\n",
              "      <td>0</td>\n",
              "      <td>1</td>\n",
              "    </tr>\n",
              "    <tr>\n",
              "      <th>3</th>\n",
              "      <td>1</td>\n",
              "      <td>1</td>\n",
              "      <td>0</td>\n",
              "      <td>0</td>\n",
              "      <td>0</td>\n",
              "      <td>1</td>\n",
              "      <td>1</td>\n",
              "      <td>1</td>\n",
              "      <td>0</td>\n",
              "    </tr>\n",
              "  </tbody>\n",
              "</table>\n",
              "</div>\n",
              "    <div class=\"colab-df-buttons\">\n",
              "\n",
              "  <div class=\"colab-df-container\">\n",
              "    <button class=\"colab-df-convert\" onclick=\"convertToInteractive('df-9012455e-19e5-4f36-be07-2fcfc46b15ea')\"\n",
              "            title=\"Convert this dataframe to an interactive table.\"\n",
              "            style=\"display:none;\">\n",
              "\n",
              "  <svg xmlns=\"http://www.w3.org/2000/svg\" height=\"24px\" viewBox=\"0 -960 960 960\">\n",
              "    <path d=\"M120-120v-720h720v720H120Zm60-500h600v-160H180v160Zm220 220h160v-160H400v160Zm0 220h160v-160H400v160ZM180-400h160v-160H180v160Zm440 0h160v-160H620v160ZM180-180h160v-160H180v160Zm440 0h160v-160H620v160Z\"/>\n",
              "  </svg>\n",
              "    </button>\n",
              "\n",
              "  <style>\n",
              "    .colab-df-container {\n",
              "      display:flex;\n",
              "      gap: 12px;\n",
              "    }\n",
              "\n",
              "    .colab-df-convert {\n",
              "      background-color: #E8F0FE;\n",
              "      border: none;\n",
              "      border-radius: 50%;\n",
              "      cursor: pointer;\n",
              "      display: none;\n",
              "      fill: #1967D2;\n",
              "      height: 32px;\n",
              "      padding: 0 0 0 0;\n",
              "      width: 32px;\n",
              "    }\n",
              "\n",
              "    .colab-df-convert:hover {\n",
              "      background-color: #E2EBFA;\n",
              "      box-shadow: 0px 1px 2px rgba(60, 64, 67, 0.3), 0px 1px 3px 1px rgba(60, 64, 67, 0.15);\n",
              "      fill: #174EA6;\n",
              "    }\n",
              "\n",
              "    .colab-df-buttons div {\n",
              "      margin-bottom: 4px;\n",
              "    }\n",
              "\n",
              "    [theme=dark] .colab-df-convert {\n",
              "      background-color: #3B4455;\n",
              "      fill: #D2E3FC;\n",
              "    }\n",
              "\n",
              "    [theme=dark] .colab-df-convert:hover {\n",
              "      background-color: #434B5C;\n",
              "      box-shadow: 0px 1px 3px 1px rgba(0, 0, 0, 0.15);\n",
              "      filter: drop-shadow(0px 1px 2px rgba(0, 0, 0, 0.3));\n",
              "      fill: #FFFFFF;\n",
              "    }\n",
              "  </style>\n",
              "\n",
              "    <script>\n",
              "      const buttonEl =\n",
              "        document.querySelector('#df-9012455e-19e5-4f36-be07-2fcfc46b15ea button.colab-df-convert');\n",
              "      buttonEl.style.display =\n",
              "        google.colab.kernel.accessAllowed ? 'block' : 'none';\n",
              "\n",
              "      async function convertToInteractive(key) {\n",
              "        const element = document.querySelector('#df-9012455e-19e5-4f36-be07-2fcfc46b15ea');\n",
              "        const dataTable =\n",
              "          await google.colab.kernel.invokeFunction('convertToInteractive',\n",
              "                                                    [key], {});\n",
              "        if (!dataTable) return;\n",
              "\n",
              "        const docLinkHtml = 'Like what you see? Visit the ' +\n",
              "          '<a target=\"_blank\" href=https://colab.research.google.com/notebooks/data_table.ipynb>data table notebook</a>'\n",
              "          + ' to learn more about interactive tables.';\n",
              "        element.innerHTML = '';\n",
              "        dataTable['output_type'] = 'display_data';\n",
              "        await google.colab.output.renderOutput(dataTable, element);\n",
              "        const docLink = document.createElement('div');\n",
              "        docLink.innerHTML = docLinkHtml;\n",
              "        element.appendChild(docLink);\n",
              "      }\n",
              "    </script>\n",
              "  </div>\n",
              "\n",
              "\n",
              "<div id=\"df-546d2512-acc7-4d6b-bf02-240253fa993d\">\n",
              "  <button class=\"colab-df-quickchart\" onclick=\"quickchart('df-546d2512-acc7-4d6b-bf02-240253fa993d')\"\n",
              "            title=\"Suggest charts\"\n",
              "            style=\"display:none;\">\n",
              "\n",
              "<svg xmlns=\"http://www.w3.org/2000/svg\" height=\"24px\"viewBox=\"0 0 24 24\"\n",
              "     width=\"24px\">\n",
              "    <g>\n",
              "        <path d=\"M19 3H5c-1.1 0-2 .9-2 2v14c0 1.1.9 2 2 2h14c1.1 0 2-.9 2-2V5c0-1.1-.9-2-2-2zM9 17H7v-7h2v7zm4 0h-2V7h2v10zm4 0h-2v-4h2v4z\"/>\n",
              "    </g>\n",
              "</svg>\n",
              "  </button>\n",
              "\n",
              "<style>\n",
              "  .colab-df-quickchart {\n",
              "      --bg-color: #E8F0FE;\n",
              "      --fill-color: #1967D2;\n",
              "      --hover-bg-color: #E2EBFA;\n",
              "      --hover-fill-color: #174EA6;\n",
              "      --disabled-fill-color: #AAA;\n",
              "      --disabled-bg-color: #DDD;\n",
              "  }\n",
              "\n",
              "  [theme=dark] .colab-df-quickchart {\n",
              "      --bg-color: #3B4455;\n",
              "      --fill-color: #D2E3FC;\n",
              "      --hover-bg-color: #434B5C;\n",
              "      --hover-fill-color: #FFFFFF;\n",
              "      --disabled-bg-color: #3B4455;\n",
              "      --disabled-fill-color: #666;\n",
              "  }\n",
              "\n",
              "  .colab-df-quickchart {\n",
              "    background-color: var(--bg-color);\n",
              "    border: none;\n",
              "    border-radius: 50%;\n",
              "    cursor: pointer;\n",
              "    display: none;\n",
              "    fill: var(--fill-color);\n",
              "    height: 32px;\n",
              "    padding: 0;\n",
              "    width: 32px;\n",
              "  }\n",
              "\n",
              "  .colab-df-quickchart:hover {\n",
              "    background-color: var(--hover-bg-color);\n",
              "    box-shadow: 0 1px 2px rgba(60, 64, 67, 0.3), 0 1px 3px 1px rgba(60, 64, 67, 0.15);\n",
              "    fill: var(--button-hover-fill-color);\n",
              "  }\n",
              "\n",
              "  .colab-df-quickchart-complete:disabled,\n",
              "  .colab-df-quickchart-complete:disabled:hover {\n",
              "    background-color: var(--disabled-bg-color);\n",
              "    fill: var(--disabled-fill-color);\n",
              "    box-shadow: none;\n",
              "  }\n",
              "\n",
              "  .colab-df-spinner {\n",
              "    border: 2px solid var(--fill-color);\n",
              "    border-color: transparent;\n",
              "    border-bottom-color: var(--fill-color);\n",
              "    animation:\n",
              "      spin 1s steps(1) infinite;\n",
              "  }\n",
              "\n",
              "  @keyframes spin {\n",
              "    0% {\n",
              "      border-color: transparent;\n",
              "      border-bottom-color: var(--fill-color);\n",
              "      border-left-color: var(--fill-color);\n",
              "    }\n",
              "    20% {\n",
              "      border-color: transparent;\n",
              "      border-left-color: var(--fill-color);\n",
              "      border-top-color: var(--fill-color);\n",
              "    }\n",
              "    30% {\n",
              "      border-color: transparent;\n",
              "      border-left-color: var(--fill-color);\n",
              "      border-top-color: var(--fill-color);\n",
              "      border-right-color: var(--fill-color);\n",
              "    }\n",
              "    40% {\n",
              "      border-color: transparent;\n",
              "      border-right-color: var(--fill-color);\n",
              "      border-top-color: var(--fill-color);\n",
              "    }\n",
              "    60% {\n",
              "      border-color: transparent;\n",
              "      border-right-color: var(--fill-color);\n",
              "    }\n",
              "    80% {\n",
              "      border-color: transparent;\n",
              "      border-right-color: var(--fill-color);\n",
              "      border-bottom-color: var(--fill-color);\n",
              "    }\n",
              "    90% {\n",
              "      border-color: transparent;\n",
              "      border-bottom-color: var(--fill-color);\n",
              "    }\n",
              "  }\n",
              "</style>\n",
              "\n",
              "  <script>\n",
              "    async function quickchart(key) {\n",
              "      const quickchartButtonEl =\n",
              "        document.querySelector('#' + key + ' button');\n",
              "      quickchartButtonEl.disabled = true;  // To prevent multiple clicks.\n",
              "      quickchartButtonEl.classList.add('colab-df-spinner');\n",
              "      try {\n",
              "        const charts = await google.colab.kernel.invokeFunction(\n",
              "            'suggestCharts', [key], {});\n",
              "      } catch (error) {\n",
              "        console.error('Error during call to suggestCharts:', error);\n",
              "      }\n",
              "      quickchartButtonEl.classList.remove('colab-df-spinner');\n",
              "      quickchartButtonEl.classList.add('colab-df-quickchart-complete');\n",
              "    }\n",
              "    (() => {\n",
              "      let quickchartButtonEl =\n",
              "        document.querySelector('#df-546d2512-acc7-4d6b-bf02-240253fa993d button');\n",
              "      quickchartButtonEl.style.display =\n",
              "        google.colab.kernel.accessAllowed ? 'block' : 'none';\n",
              "    })();\n",
              "  </script>\n",
              "</div>\n",
              "\n",
              "  <div id=\"id_4c586852-8db6-40cc-8200-d5e44be684b9\">\n",
              "    <style>\n",
              "      .colab-df-generate {\n",
              "        background-color: #E8F0FE;\n",
              "        border: none;\n",
              "        border-radius: 50%;\n",
              "        cursor: pointer;\n",
              "        display: none;\n",
              "        fill: #1967D2;\n",
              "        height: 32px;\n",
              "        padding: 0 0 0 0;\n",
              "        width: 32px;\n",
              "      }\n",
              "\n",
              "      .colab-df-generate:hover {\n",
              "        background-color: #E2EBFA;\n",
              "        box-shadow: 0px 1px 2px rgba(60, 64, 67, 0.3), 0px 1px 3px 1px rgba(60, 64, 67, 0.15);\n",
              "        fill: #174EA6;\n",
              "      }\n",
              "\n",
              "      [theme=dark] .colab-df-generate {\n",
              "        background-color: #3B4455;\n",
              "        fill: #D2E3FC;\n",
              "      }\n",
              "\n",
              "      [theme=dark] .colab-df-generate:hover {\n",
              "        background-color: #434B5C;\n",
              "        box-shadow: 0px 1px 3px 1px rgba(0, 0, 0, 0.15);\n",
              "        filter: drop-shadow(0px 1px 2px rgba(0, 0, 0, 0.3));\n",
              "        fill: #FFFFFF;\n",
              "      }\n",
              "    </style>\n",
              "    <button class=\"colab-df-generate\" onclick=\"generateWithVariable('df')\"\n",
              "            title=\"Generate code using this dataframe.\"\n",
              "            style=\"display:none;\">\n",
              "\n",
              "  <svg xmlns=\"http://www.w3.org/2000/svg\" height=\"24px\"viewBox=\"0 0 24 24\"\n",
              "       width=\"24px\">\n",
              "    <path d=\"M7,19H8.4L18.45,9,17,7.55,7,17.6ZM5,21V16.75L18.45,3.32a2,2,0,0,1,2.83,0l1.4,1.43a1.91,1.91,0,0,1,.58,1.4,1.91,1.91,0,0,1-.58,1.4L9.25,21ZM18.45,9,17,7.55Zm-12,3A5.31,5.31,0,0,0,4.9,8.1,5.31,5.31,0,0,0,1,6.5,5.31,5.31,0,0,0,4.9,4.9,5.31,5.31,0,0,0,6.5,1,5.31,5.31,0,0,0,8.1,4.9,5.31,5.31,0,0,0,12,6.5,5.46,5.46,0,0,0,6.5,12Z\"/>\n",
              "  </svg>\n",
              "    </button>\n",
              "    <script>\n",
              "      (() => {\n",
              "      const buttonEl =\n",
              "        document.querySelector('#id_4c586852-8db6-40cc-8200-d5e44be684b9 button.colab-df-generate');\n",
              "      buttonEl.style.display =\n",
              "        google.colab.kernel.accessAllowed ? 'block' : 'none';\n",
              "\n",
              "      buttonEl.onclick = () => {\n",
              "        google.colab.notebook.generateWithVariable('df');\n",
              "      }\n",
              "      })();\n",
              "    </script>\n",
              "  </div>\n",
              "\n",
              "    </div>\n",
              "  </div>\n"
            ],
            "application/vnd.google.colaboratory.intrinsic+json": {
              "type": "dataframe",
              "variable_name": "df",
              "summary": "{\n  \"name\": \"df\",\n  \"rows\": 4,\n  \"fields\": [\n    {\n      \"column\": \"first\",\n      \"properties\": {\n        \"dtype\": \"number\",\n        \"std\": 0,\n        \"min\": 0,\n        \"max\": 1,\n        \"num_unique_values\": 2,\n        \"samples\": [\n          0,\n          1\n        ],\n        \"semantic_type\": \"\",\n        \"description\": \"\"\n      }\n    },\n    {\n      \"column\": \"is\",\n      \"properties\": {\n        \"dtype\": \"number\",\n        \"std\": 0,\n        \"min\": 0,\n        \"max\": 1,\n        \"num_unique_values\": 2,\n        \"samples\": [\n          0,\n          1\n        ],\n        \"semantic_type\": \"\",\n        \"description\": \"\"\n      }\n    },\n    {\n      \"column\": \"number\",\n      \"properties\": {\n        \"dtype\": \"number\",\n        \"std\": 0,\n        \"min\": 0,\n        \"max\": 1,\n        \"num_unique_values\": 2,\n        \"samples\": [\n          1,\n          0\n        ],\n        \"semantic_type\": \"\",\n        \"description\": \"\"\n      }\n    },\n    {\n      \"column\": \"one\",\n      \"properties\": {\n        \"dtype\": \"number\",\n        \"std\": 0,\n        \"min\": 0,\n        \"max\": 1,\n        \"num_unique_values\": 2,\n        \"samples\": [\n          1,\n          0\n        ],\n        \"semantic_type\": \"\",\n        \"description\": \"\"\n      }\n    },\n    {\n      \"column\": \"second\",\n      \"properties\": {\n        \"dtype\": \"number\",\n        \"std\": 0,\n        \"min\": 0,\n        \"max\": 1,\n        \"num_unique_values\": 2,\n        \"samples\": [\n          1,\n          0\n        ],\n        \"semantic_type\": \"\",\n        \"description\": \"\"\n      }\n    },\n    {\n      \"column\": \"sentence\",\n      \"properties\": {\n        \"dtype\": \"number\",\n        \"std\": 0,\n        \"min\": 1,\n        \"max\": 1,\n        \"num_unique_values\": 1,\n        \"samples\": [\n          1\n        ],\n        \"semantic_type\": \"\",\n        \"description\": \"\"\n      }\n    },\n    {\n      \"column\": \"the\",\n      \"properties\": {\n        \"dtype\": \"number\",\n        \"std\": 0,\n        \"min\": 0,\n        \"max\": 1,\n        \"num_unique_values\": 2,\n        \"samples\": [\n          0\n        ],\n        \"semantic_type\": \"\",\n        \"description\": \"\"\n      }\n    },\n    {\n      \"column\": \"this\",\n      \"properties\": {\n        \"dtype\": \"number\",\n        \"std\": 0,\n        \"min\": 0,\n        \"max\": 1,\n        \"num_unique_values\": 2,\n        \"samples\": [\n          0\n        ],\n        \"semantic_type\": \"\",\n        \"description\": \"\"\n      }\n    },\n    {\n      \"column\": \"three\",\n      \"properties\": {\n        \"dtype\": \"number\",\n        \"std\": 0,\n        \"min\": 0,\n        \"max\": 1,\n        \"num_unique_values\": 2,\n        \"samples\": [\n          1\n        ],\n        \"semantic_type\": \"\",\n        \"description\": \"\"\n      }\n    }\n  ]\n}"
            }
          },
          "metadata": {},
          "execution_count": 2
        }
      ]
    },
    {
      "cell_type": "markdown",
      "source": [
        "### Adding Preprocessing - Lowercasing and Punctuation Removal\n",
        "\n",
        "**Problem**:  Point out issues with the initial tokenization: \"Sentence\" and \"sentence\" are treated as different words. Punctuation is included.  \"This is not ideal for our models.\"\n",
        "\n",
        "**Solution** - *Lowercasing*"
      ],
      "metadata": {
        "id": "clyVFecnxoIQ"
      }
    },
    {
      "cell_type": "markdown",
      "source": [
        "#### Lowercasing"
      ],
      "metadata": {
        "id": "PxtwnxQY0Z3Q"
      }
    },
    {
      "cell_type": "code",
      "source": [
        "from sklearn.feature_extraction.text import CountVectorizer\n",
        "\n",
        "corpus = [\n",
        "    \"This is the first Sentence.\",\n",
        "    \"This one is the second sentence.\",\n",
        "    \"Sentence number three.\",\n",
        "    \"Is this the first sentence?\",\n",
        "]\n",
        "\n",
        "vectorizer = CountVectorizer(lowercase=True) # Add lowercase=True\n",
        "vectorizer.fit(corpus)\n",
        "X = vectorizer.transform(corpus)\n",
        "\n",
        "print(\"Vocabulary (Lowercased):\")\n",
        "print(vectorizer.get_feature_names_out())\n",
        "print(\"\\nDocument-Term Matrix (Lowercased):\")\n",
        "print(X.toarray())"
      ],
      "metadata": {
        "id": "FpWUZYnJxhWe",
        "colab": {
          "base_uri": "https://localhost:8080/"
        },
        "outputId": "0f828bf3-c6d5-4c86-a88a-63afc28f64bb"
      },
      "execution_count": null,
      "outputs": [
        {
          "output_type": "stream",
          "name": "stdout",
          "text": [
            "Vocabulary (Lowercased):\n",
            "['first' 'is' 'number' 'one' 'second' 'sentence' 'the' 'this' 'three']\n",
            "\n",
            "Document-Term Matrix (Lowercased):\n",
            "[[1 1 0 0 0 1 1 1 0]\n",
            " [0 1 0 1 1 1 1 1 0]\n",
            " [0 0 1 0 0 1 0 0 1]\n",
            " [1 1 0 0 0 1 1 1 0]]\n"
          ]
        }
      ]
    },
    {
      "cell_type": "markdown",
      "source": [
        "Explanation: \"We added `lowercase=True` inside\n",
        "`CountVectorizer`.\n",
        "\n",
        "Run it again. See?\n",
        "\n",
        "Now 'sentence' and 'Sentence' are treated the same!\""
      ],
      "metadata": {
        "id": "S1HNOskIx4c-"
      }
    },
    {
      "cell_type": "markdown",
      "source": [
        "#### Remove punctuations"
      ],
      "metadata": {
        "id": "vpHKfMKF0SiJ"
      }
    },
    {
      "cell_type": "code",
      "source": [
        "from sklearn.feature_extraction.text import CountVectorizer\n",
        "\n",
        "corpus = [\n",
        "    \"This is the first sentence.\",\n",
        "    \"This one is the second sentence.\",\n",
        "    \"Sentence number three!\", # Added punctuation\n",
        "    \"Is this the first sentence?\",\n",
        "]\n",
        "\n",
        "vectorizer = CountVectorizer(lowercase=True, token_pattern=r'[a-zA-Z]+') # Added token_pattern\n",
        "vectorizer.fit(corpus)\n",
        "X = vectorizer.transform(corpus)\n",
        "\n",
        "print(\"Vocabulary (No Punctuation, Lowercased):\")\n",
        "print(vectorizer.get_feature_names_out())\n",
        "print(\"\\nDocument-Term Matrix (No Punctuation, Lowercased):\")\n",
        "print(X.toarray())"
      ],
      "metadata": {
        "id": "Mejk0jei0Bxv",
        "colab": {
          "base_uri": "https://localhost:8080/"
        },
        "outputId": "31cd3ef4-874b-401e-bc73-1e0a74f942a6"
      },
      "execution_count": null,
      "outputs": [
        {
          "output_type": "stream",
          "name": "stdout",
          "text": [
            "Vocabulary (No Punctuation, Lowercased):\n",
            "['first' 'is' 'number' 'one' 'second' 'sentence' 'the' 'this' 'three']\n",
            "\n",
            "Document-Term Matrix (No Punctuation, Lowercased):\n",
            "[[1 1 0 0 0 1 1 1 0]\n",
            " [0 1 0 1 1 1 1 1 0]\n",
            " [0 0 1 0 0 1 0 0 1]\n",
            " [1 1 0 0 0 1 1 1 0]]\n"
          ]
        }
      ]
    },
    {
      "cell_type": "markdown",
      "source": [
        "* **Explanation**: \"We added token_pattern=r'[a-zA-Z]+'. This tells CountVectorizer to only keep words made of letters. Punctuation is gone!\"\n",
        "* Explain token_pattern briefly as \"a rule for what counts as a word.\" (No need to go deep into regex at this stage, just the practical effect.)"
      ],
      "metadata": {
        "id": "wB6EFZ5C0kQH"
      }
    },
    {
      "cell_type": "markdown",
      "source": [
        "#### Stop Word Removal - Using Built-in Stop Words in `CountVectorizer`"
      ],
      "metadata": {
        "id": "gvl9qfXD0w02"
      }
    },
    {
      "cell_type": "markdown",
      "source": [
        "**Problem**:  Point out common words like \"is,\" \"the,\" \"this,\" \"one\" are very frequent but might not be very informative for analysis. These are called 'stop words'.\n",
        "\n",
        "**Solution** - Stop Word Removal"
      ],
      "metadata": {
        "id": "OKYfcuQE02Fz"
      }
    },
    {
      "cell_type": "code",
      "source": [
        "from sklearn.feature_extraction.text import CountVectorizer\n",
        "\n",
        "corpus = [\n",
        "    \"This is the first sentence.\",\n",
        "    \"This one is the second sentence.\",\n",
        "    \"Sentence number three!\",\n",
        "    \"Is this the first sentence?\",\n",
        "]\n",
        "\n",
        "vectorizer = CountVectorizer(\n",
        "    lowercase=True,\n",
        "    token_pattern=r'[a-zA-Z]+',\n",
        "    stop_words='english') # Added stop_words='english'\n",
        "vectorizer.fit(corpus)\n",
        "X = vectorizer.transform(corpus)\n",
        "\n",
        "print(\"Vocabulary (No Punctuation, Lowercased, Stop Words Removed):\")\n",
        "print(vectorizer.get_feature_names_out())\n",
        "print(\"\\nDocument-Term Matrix (No Punctuation, Lowercased, Stop Words Removed):\")\n",
        "print(X.toarray())"
      ],
      "metadata": {
        "id": "Bqgn0iHe0sjs",
        "colab": {
          "base_uri": "https://localhost:8080/"
        },
        "outputId": "0962550f-06ec-4313-9e52-b29b3537d5be"
      },
      "execution_count": null,
      "outputs": [
        {
          "output_type": "stream",
          "name": "stdout",
          "text": [
            "Vocabulary (No Punctuation, Lowercased, Stop Words Removed):\n",
            "['number' 'second' 'sentence']\n",
            "\n",
            "Document-Term Matrix (No Punctuation, Lowercased, Stop Words Removed):\n",
            "[[0 0 1]\n",
            " [0 1 1]\n",
            " [1 0 1]\n",
            " [0 0 1]]\n"
          ]
        }
      ]
    },
    {
      "cell_type": "markdown",
      "source": [
        "We added stop_words='english'. CountVectorizer now automatically removes common English words. Run it and see how the vocabulary is smaller and common words like 'is', 'the' are gone!\n",
        "\n",
        "`stop_words='english'` uses a predefined list. We can customize this later if needed."
      ],
      "metadata": {
        "id": "Duw8tygh1DTY"
      }
    },
    {
      "cell_type": "markdown",
      "source": [
        "## Experimentation"
      ],
      "metadata": {
        "id": "nawetuUS1Hlk"
      }
    },
    {
      "cell_type": "markdown",
      "source": [
        "**Experiment # 1**: Change the corpus to different sentences. What happens to the vocabulary and the matrix?"
      ],
      "metadata": {
        "id": "Z7497xQC1LW7"
      }
    },
    {
      "cell_type": "code",
      "source": [
        "# your code here"
      ],
      "metadata": {
        "id": "cmLP2LV21TlZ"
      },
      "execution_count": null,
      "outputs": []
    },
    {
      "cell_type": "markdown",
      "source": [
        "**Experiment #2**:Remove `lowercase=True`. What changes?"
      ],
      "metadata": {
        "id": "po6PEvbo1WIY"
      }
    },
    {
      "cell_type": "code",
      "source": [
        "# your code here"
      ],
      "metadata": {
        "id": "xE1cMhmg1VY8"
      },
      "execution_count": null,
      "outputs": []
    },
    {
      "cell_type": "markdown",
      "source": [
        "**Experiment #3**: Remove `stop_words='english'`. What comes back in the vocabulary?"
      ],
      "metadata": {
        "id": "ElN-p6Wf1hD6"
      }
    },
    {
      "cell_type": "code",
      "source": [
        "# your code here"
      ],
      "metadata": {
        "id": "v4NDKOLA1o52"
      },
      "execution_count": null,
      "outputs": []
    },
    {
      "cell_type": "markdown",
      "source": [
        "**Experiment #4**: Try different token_pattern values."
      ],
      "metadata": {
        "id": "Jn8ZkNCJ1qsp"
      }
    },
    {
      "cell_type": "code",
      "source": [
        "# your code here"
      ],
      "metadata": {
        "id": "6JS0xEOb2JD1"
      },
      "execution_count": null,
      "outputs": []
    },
    {
      "cell_type": "markdown",
      "source": [
        "## Summary:\n",
        "* In this lesson, we learned how to take raw text and use `CountVectorizer` to convert it into numbers that machine learning models can use.\n",
        "\n",
        "* We covered basic preprocessing steps: lowercasing, punctuation removal, and stop word removal, all using `CountVectorizer`.\n",
        "\n",
        "* This is just the beginning! In the next lessons, we'll use these numerical representations to build actual text classification models!\n",
        "\n",
        "\n"
      ],
      "metadata": {
        "id": "w8ZIjmlq1cow"
      }
    },
    {
      "cell_type": "markdown",
      "source": [
        "Next time, we'll learn about TF-IDF and then start building models like Logistic Regression!"
      ],
      "metadata": {
        "id": "jw5luIb62WAy"
      }
    },
    {
      "cell_type": "markdown",
      "source": [
        "## Key Takeaways\n",
        "\n",
        "* Text data needs preprocessing to be used in machine learning.\n",
        "* `CountVectorizer` in scikit-learn is a powerful tool for tokenization and basic preprocessing.\n",
        "* We can control preprocessing steps like lowercasing, punctuation removal, and stop word removal within `CountVectorizer`.\n",
        "* The output of `CountVectorizer` is a numerical matrix that represents text data."
      ],
      "metadata": {
        "id": "8enRaZa92YaQ"
      }
    },
    {
      "cell_type": "markdown",
      "source": [
        "## Resources\n",
        "\n",
        "`Scikit-learn` documentation on `CountVectorizer`: https://scikit-learn.org/stable/modules/generated/sklearn.feature_extraction.text.CountVectorizer.html"
      ],
      "metadata": {
        "id": "FE8sAUfl2nyK"
      }
    }
  ]
}