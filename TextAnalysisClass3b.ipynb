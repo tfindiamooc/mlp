{
  "nbformat": 4,
  "nbformat_minor": 0,
  "metadata": {
    "colab": {
      "provenance": [],
      "include_colab_link": true
    },
    "kernelspec": {
      "name": "python3",
      "display_name": "Python 3"
    },
    "language_info": {
      "name": "python"
    }
  },
  "cells": [
    {
      "cell_type": "markdown",
      "metadata": {
        "id": "view-in-github",
        "colab_type": "text"
      },
      "source": [
        "<a href=\"https://colab.research.google.com/github/tfindiamooc/mlp/blob/main/TextAnalysisClass3b.ipynb\" target=\"_parent\"><img src=\"https://colab.research.google.com/assets/colab-badge.svg\" alt=\"Open In Colab\"/></a>"
      ]
    },
    {
      "cell_type": "markdown",
      "source": [
        "## Lesson #3b: Text Classification with Naive Bayes classifier\n",
        "\n",
        "Welcome to a focused lesson on **Naive Bayes** classifiers! We've touched upon Naive Bayes in the previous lesson, but now we'll dedicate a whole session to understand it in detail and explore its strengths for text classification.\n",
        "\n",
        "In this lesson, we will:\n",
        "\n",
        "*   Build **Naive Bayes pipelines** for text classification.\n",
        "*   Understand **what Naive Bayes is and how it works**.\n",
        "*   Explore different **types of Naive Bayes classifiers**, focusing on **Multinomial Naive Bayes**.\n",
        "*   Experiment with **different vectorizers** with Naive Bayes.\n",
        "*   Learn how to **inspect** a Naive Bayes model to understand feature importance.\n",
        "*   Use **GridSearchCV** to **tune hyperparameters** of Naive Bayes.\n",
        "\n",
        "Let's start by building a basic Naive Bayes pipeline and revisiting its performance!"
      ],
      "metadata": {
        "id": "f7jzQpTj-8hW"
      }
    },
    {
      "cell_type": "code",
      "execution_count": null,
      "metadata": {
        "colab": {
          "base_uri": "https://localhost:8080/"
        },
        "id": "4ajzyjZ6-3xW",
        "outputId": "10f3e05f-cc46-4340-dd6f-aed1b20ce030"
      },
      "outputs": [
        {
          "output_type": "stream",
          "name": "stdout",
          "text": [
            "Naive Bayes Pipeline Classification Report:\n",
            "                        precision    recall  f1-score   support\n",
            "\n",
            "           alt.atheism       0.98      0.95      0.97       235\n",
            "soc.religion.christian       0.96      0.99      0.97       304\n",
            "\n",
            "              accuracy                           0.97       539\n",
            "             macro avg       0.97      0.97      0.97       539\n",
            "          weighted avg       0.97      0.97      0.97       539\n",
            "\n"
          ]
        }
      ],
      "source": [
        "# Code Cell 1: Basic Naive Bayes Pipeline Code\n",
        "from sklearn.datasets import fetch_20newsgroups\n",
        "from sklearn.model_selection import train_test_split\n",
        "from sklearn.feature_extraction.text import TfidfVectorizer\n",
        "from sklearn.naive_bayes import MultinomialNB\n",
        "from sklearn.pipeline import Pipeline\n",
        "from sklearn.metrics import classification_report\n",
        "\n",
        "# 1. Load Dataset\n",
        "newsgroups = fetch_20newsgroups(subset='all', categories=['alt.atheism', 'soc.religion.christian'])\n",
        "X, y = newsgroups.data, newsgroups.target\n",
        "target_names = newsgroups.target_names\n",
        "\n",
        "# 2. Split Data\n",
        "X_train, X_test, y_train, y_test = train_test_split(X, y, test_size=0.3, random_state=42)\n",
        "\n",
        "# 3. Create Naive Bayes Pipeline\n",
        "nb_pipeline = Pipeline([\n",
        "    ('tfidf', TfidfVectorizer(stop_words='english', max_features=5000)),\n",
        "    ('nb', MultinomialNB())\n",
        "])\n",
        "\n",
        "# 4. Train Pipeline\n",
        "nb_pipeline.fit(X_train, y_train)\n",
        "\n",
        "# 5. Make Predictions\n",
        "y_pred_nb_pipeline = nb_pipeline.predict(X_test)\n",
        "\n",
        "# 6. Evaluate Performance\n",
        "print(\"Naive Bayes Pipeline Classification Report:\")\n",
        "print(classification_report(y_test, y_pred_nb_pipeline, target_names=target_names))"
      ]
    },
    {
      "cell_type": "markdown",
      "source": [
        "### Naive Bayes Pipeline - Recap\n",
        "\n",
        "This code should look familiar! It's the basic Naive Bayes pipeline we built in the previous lesson. Let's quickly recap the components:\n",
        "\n",
        "1.  **Dataset Loading and Splitting:** We load the 20 Newsgroups dataset and split it into training and testing sets.\n",
        "2.  **Pipeline Creation:** We create a scikit-learn pipeline with two steps:\n",
        "    *   **`TfidfVectorizer`:**  Vectorizes the text data using TF-IDF.\n",
        "    *   **`MultinomialNB`:**  The Naive Bayes classifier model.\n",
        "3.  **Pipeline Training:** We train the pipeline on the training data (`nb_pipeline.fit`).\n",
        "4.  **Prediction and Evaluation:** We make predictions on the test set and evaluate the performance using `classification_report`.\n",
        "\n",
        "Run this code to remind yourself of the baseline performance of a Naive Bayes classifier with TF-IDF.\n",
        "\n",
        "Now, let's dive deeper into understanding what Naive Bayes is and why it works for text."
      ],
      "metadata": {
        "id": "529Mw973_JHC"
      }
    },
    {
      "cell_type": "markdown",
      "source": [
        "### What is Naive Bayes? - Understanding the Concept\n",
        "\n",
        "Naive Bayes is a family of probabilistic classifiers based on **Bayes' Theorem**.  Let's break down the key ideas:\n",
        "\n",
        "*   **Bayes' Theorem:**  At its heart, Naive Bayes uses Bayes' Theorem to calculate the probability of a document belonging to a certain class, given the words in the document.  Bayes' Theorem looks like this:\n",
        "\n",
        "    P(Class | Document) = [P(Document | Class) * P(Class)] / P(Document)\n",
        "\n",
        "    Don't worry too much about the formula itself, but understand what it's doing:\n",
        "\n",
        "    *   It's trying to find the probability of the **Class** (e.g., 'alt.atheism' or 'soc.religion.christian') *given* the **Document** (the text of the newsgroup post).\n",
        "    *   It uses prior probabilities (P(Class)) and likelihoods (P(Document | Class)) to do this.\n",
        "\n",
        "*   **\"Naive\" Assumption: Feature Independence**\n",
        "    *   This is the \"naive\" part! Naive Bayes makes a simplifying assumption that **the features (words in text) are independent of each other given the class.**\n",
        "    *   In reality, words in text are *not* independent.  The presence of one word often influences the probability of another word appearing.\n",
        "    *   For example, if you see \"movie\" you might be more likely to see \"actor\" or \"director\" nearby.\n",
        "    *   Despite this unrealistic assumption, Naive Bayes works surprisingly well for text classification in practice, especially for tasks like spam detection or topic categorization. It's computationally efficient and often provides a good baseline performance.\n",
        "\n",
        "*   **Probabilistic Classifier:** Naive Bayes is a **probabilistic classifier**. It outputs probabilities for each class, indicating the model's confidence in its prediction.\n",
        "\n",
        "In the next text cell, we'll briefly touch upon different types of Naive Bayes classifiers."
      ],
      "metadata": {
        "id": "9b2qchq8_Od4"
      }
    },
    {
      "cell_type": "markdown",
      "source": [
        "### Types of Naive Bayes Classifiers\n",
        "\n",
        "Scikit-learn provides different types of Naive Bayes classifiers, each suitable for different types of data:\n",
        "\n",
        "*   **Multinomial Naive Bayes (`MultinomialNB`):**\n",
        "    *   **Best for:** **Discrete data** - especially **count data** like word counts in text documents.\n",
        "    *   **Assumption:** Features are multinomially distributed (think of drawing words from a bag of words for each class).\n",
        "    *   **Why it's good for text:** Text data represented as word counts (like in Bag of Words) or TF-IDF values (which can be thought of as \"weighted counts\") often works well with MultinomialNB. This is the one we are using in this lesson.\n",
        "\n",
        "*   **Gaussian Naive Bayes (`GaussianNB`):**\n",
        "    *   **Best for:** **Continuous data** that is normally distributed (Gaussian distribution).\n",
        "    *   **Assumption:** Features are normally distributed.\n",
        "    *   **Less common for raw text features:**  Not typically used directly with word counts or TF-IDF, as these are not normally distributed. Might be used with dense word embeddings if you assume embeddings are approximately Gaussian.\n",
        "\n",
        "*   **Bernoulli Naive Bayes (`BernoulliNB`):**\n",
        "    *   **Best for:** **Binary features** (features that are either present or absent - 0 or 1).\n",
        "    *   **Assumption:** Features are binary-valued.\n",
        "    *   **Can be used for text:** You could binarize word features (e.g., 1 if word is present in document, 0 if absent) and use BernoulliNB.\n",
        "\n",
        "**In Text Classification, we often use Multinomial Naive Bayes (`MultinomialNB`) because it's well-suited for word count or TF-IDF representations.**\n",
        "\n",
        "Let's experiment with using different vectorizers with Naive Bayes to see how it affects performance."
      ],
      "metadata": {
        "id": "9AER9GaN_PJs"
      }
    },
    {
      "cell_type": "code",
      "source": [
        "# Code Cell 2: Naive Bayes with different vectorizers (CountVectorizer, TF-IDF)\n",
        "from sklearn.datasets import fetch_20newsgroups\n",
        "from sklearn.model_selection import train_test_split\n",
        "from sklearn.feature_extraction.text import CountVectorizer, TfidfVectorizer # Import CountVectorizer\n",
        "from sklearn.naive_bayes import MultinomialNB\n",
        "from sklearn.pipeline import Pipeline\n",
        "from sklearn.metrics import classification_report\n",
        "\n",
        "# 1. Load Dataset & Split Data (Same as before)\n",
        "newsgroups = fetch_20newsgroups(subset='all', categories=['alt.atheism', 'soc.religion.christian'])\n",
        "X, y = newsgroups.data, newsgroups.target\n",
        "target_names = newsgroups.target_names\n",
        "X_train, X_test, y_train, y_test = train_test_split(X, y, test_size=0.3, random_state=42)\n",
        "\n",
        "# 2. Pipelines with different vectorizers\n",
        "# Pipeline with CountVectorizer (BoW)\n",
        "nb_pipeline_bow = Pipeline([\n",
        "    ('bow', CountVectorizer(stop_words='english', max_features=5000)), # Using CountVectorizer instead of TfidfVectorizer\n",
        "    ('nb', MultinomialNB())\n",
        "])\n",
        "\n",
        "# Pipeline with TfidfVectorizer (TF-IDF) - (Same as before for comparison)\n",
        "nb_pipeline_tfidf = Pipeline([\n",
        "    ('tfidf', TfidfVectorizer(stop_words='english', max_features=5000)),\n",
        "    ('nb', MultinomialNB())\n",
        "])\n",
        "\n",
        "# 3. Train Pipelines\n",
        "nb_pipeline_bow.fit(X_train, y_train)\n",
        "nb_pipeline_tfidf.fit(X_train, y_train)\n",
        "\n",
        "# 4. Make Predictions\n",
        "y_pred_nb_bow = nb_pipeline_bow.predict(X_test)\n",
        "y_pred_nb_tfidf = nb_pipeline_tfidf.predict(X_test)\n",
        "\n",
        "# 5. Evaluate Performance - Compare BoW and TF-IDF\n",
        "print(\"Naive Bayes Pipeline with CountVectorizer (BoW) Classification Report:\")\n",
        "print(classification_report(y_test, y_pred_nb_bow, target_names=target_names))\n",
        "\n",
        "print(\"\\nNaive Bayes Pipeline with TfidfVectorizer (TF-IDF) Classification Report:\")\n",
        "print(classification_report(y_test, y_pred_nb_tfidf, target_names=target_names))"
      ],
      "metadata": {
        "colab": {
          "base_uri": "https://localhost:8080/"
        },
        "id": "mKxvMP6F_T4B",
        "outputId": "0957d224-fb65-442d-b48a-0a8cdf084df1"
      },
      "execution_count": null,
      "outputs": [
        {
          "output_type": "stream",
          "name": "stdout",
          "text": [
            "Naive Bayes Pipeline with CountVectorizer (BoW) Classification Report:\n",
            "                        precision    recall  f1-score   support\n",
            "\n",
            "           alt.atheism       0.97      0.98      0.97       235\n",
            "soc.religion.christian       0.99      0.97      0.98       304\n",
            "\n",
            "              accuracy                           0.98       539\n",
            "             macro avg       0.98      0.98      0.98       539\n",
            "          weighted avg       0.98      0.98      0.98       539\n",
            "\n",
            "\n",
            "Naive Bayes Pipeline with TfidfVectorizer (TF-IDF) Classification Report:\n",
            "                        precision    recall  f1-score   support\n",
            "\n",
            "           alt.atheism       0.98      0.95      0.97       235\n",
            "soc.religion.christian       0.96      0.99      0.97       304\n",
            "\n",
            "              accuracy                           0.97       539\n",
            "             macro avg       0.97      0.97      0.97       539\n",
            "          weighted avg       0.97      0.97      0.97       539\n",
            "\n"
          ]
        }
      ]
    },
    {
      "cell_type": "markdown",
      "source": [
        "### Comparing Vectorizers with Naive Bayes\n",
        "\n",
        "In the code above, we created two Naive Bayes pipelines:\n",
        "\n",
        "*   **`nb_pipeline_bow`**: Uses `CountVectorizer` (Bag of Words) for vectorization.\n",
        "*   **`nb_pipeline_tfidf`**: Uses `TfidfVectorizer` (TF-IDF) for vectorization (this is our original pipeline).\n",
        "\n",
        "Run this code and compare the classification reports for both pipelines.\n",
        "\n",
        "**Questions to consider:**\n",
        "\n",
        "*   Does using TF-IDF vectorization improve the performance of Naive Bayes compared to using simple Bag of Words (CountVectorizer)?\n",
        "*   By how much does the performance change (look at F1-scores, accuracy)?\n",
        "*   Is the improvement significant?\n",
        "\n",
        "TF-IDF often weights words by their importance, which can be helpful for Naive Bayes (and other models) to focus on more discriminative features.\n",
        "\n",
        "Now, let's inspect the Naive Bayes model to understand which words are considered important for each class."
      ],
      "metadata": {
        "id": "_s3y8rUw_SN2"
      }
    },
    {
      "cell_type": "code",
      "source": [
        "# Code Cell 3: Naive Bayes Model Inspection (Feature Log-Probabilities)\n",
        "from sklearn.datasets import fetch_20newsgroups\n",
        "from sklearn.model_selection import train_test_split\n",
        "from sklearn.feature_extraction.text import TfidfVectorizer\n",
        "from sklearn.naive_bayes import MultinomialNB\n",
        "from sklearn.pipeline import Pipeline\n",
        "from sklearn.metrics import classification_report\n",
        "import matplotlib.pyplot as plt\n",
        "import numpy as np\n",
        "\n",
        "# 1. Load Dataset & Split Data (Same as before)\n",
        "newsgroups = fetch_20newsgroups(subset='all', categories=['alt.atheism', 'soc.religion.christian'])\n",
        "X, y = newsgroups.data, newsgroups.target\n",
        "target_names = newsgroups.target_names\n",
        "X_train, X_test, y_train, y_test = train_test_split(X, y, test_size=0.3, random_state=42)\n",
        "\n",
        "# 2. Create Naive Bayes Pipeline (TF-IDF - for inspection)\n",
        "nb_pipeline_tfidf = Pipeline([\n",
        "    ('tfidf', TfidfVectorizer(stop_words='english', max_features=5000)),\n",
        "    ('nb', MultinomialNB())\n",
        "])\n",
        "\n",
        "# 3. Train Pipeline (Same as before)\n",
        "nb_pipeline_tfidf.fit(X_train, y_train)\n",
        "\n",
        "# 4. Make Predictions & Evaluate (Same as before)\n",
        "y_pred_nb_tfidf = nb_pipeline_tfidf.predict(X_test)\n",
        "print(\"Naive Bayes Pipeline with TF-IDF Classification Report:\")\n",
        "print(classification_report(y_test, y_pred_nb_tfidf, target_names=target_names))\n",
        "\n",
        "# 5. Model Inspection - Naive Bayes Feature Log-Probabilities (Same inspection code as before)\n",
        "feature_names = nb_pipeline_tfidf.named_steps['tfidf'].get_feature_names_out()\n",
        "nb_log_probs_class0 = nb_pipeline_tfidf.named_steps['nb'].feature_log_prob_[0]\n",
        "nb_log_probs_class1 = nb_pipeline_tfidf.named_steps['nb'].feature_log_prob_[1]\n",
        "\n",
        "top_features_class0_indices = nb_log_probs_class0.argsort()[-20:][::-1]\n",
        "top_features_class1_indices = nb_log_probs_class1.argsort()[-20:][::-1]\n",
        "\n",
        "top_features_class0 = feature_names[top_features_class0_indices]\n",
        "top_features_class1 = feature_names[top_features_class1_indices]\n",
        "\n",
        "print(\"\\nTop 20 Features (Words) for Naive Bayes - Class 0 (alt.atheism):\")\n",
        "for feature in top_features_class0:\n",
        "    print(feature)\n",
        "\n",
        "print(\"\\nTop 20 Features (Words) for Naive Bayes - Class 1 (soc.religion.christian):\")\n",
        "for feature in top_features_class1:\n",
        "    print(feature)\n",
        "\n",
        "# (Optional) Visualization - Bar plots for top features per class (Same visualization code as before)\n",
        "plt.figure(figsize=(12, 5))\n",
        "\n",
        "plt.subplot(1, 2, 1)\n",
        "plt.barh(top_features_class0[::-1], nb_log_probs_class0[top_features_class0_indices][::-1])\n",
        "plt.xlabel(\"Log Probability\")\n",
        "plt.ylabel(\"Feature (Word)\")\n",
        "plt.title(f\"Top Features - Class 0 ({target_names[0]})\")\n",
        "plt.gca().invert_yaxis()\n",
        "\n",
        "plt.subplot(1, 2, 2)\n",
        "plt.barh(top_features_class1[::-1], nb_log_probs_class1[top_features_class1_indices][::-1])\n",
        "plt.xlabel(\"Log Probability\")\n",
        "plt.ylabel(\"Feature (Word)\")\n",
        "plt.title(f\"Top Features - Class 1 ({target_names[1]})\")\n",
        "plt.gca().invert_yaxis()\n",
        "\n",
        "plt.tight_layout()\n",
        "plt.show()"
      ],
      "metadata": {
        "colab": {
          "base_uri": "https://localhost:8080/",
          "height": 1000
        },
        "id": "XDjIor6p_X9z",
        "outputId": "0d05f77d-6fbe-4264-ce19-2ab437812c86"
      },
      "execution_count": null,
      "outputs": [
        {
          "output_type": "stream",
          "name": "stdout",
          "text": [
            "Naive Bayes Pipeline with TF-IDF Classification Report:\n",
            "                        precision    recall  f1-score   support\n",
            "\n",
            "           alt.atheism       0.98      0.95      0.97       235\n",
            "soc.religion.christian       0.96      0.99      0.97       304\n",
            "\n",
            "              accuracy                           0.97       539\n",
            "             macro avg       0.97      0.97      0.97       539\n",
            "          weighted avg       0.97      0.97      0.97       539\n",
            "\n",
            "\n",
            "Top 20 Features (Words) for Naive Bayes - Class 0 (alt.atheism):\n",
            "edu\n",
            "com\n",
            "keith\n",
            "writes\n",
            "god\n",
            "posting\n",
            "sgi\n",
            "article\n",
            "nntp\n",
            "host\n",
            "atheists\n",
            "people\n",
            "caltech\n",
            "atheism\n",
            "livesey\n",
            "don\n",
            "organization\n",
            "subject\n",
            "lines\n",
            "think\n",
            "\n",
            "Top 20 Features (Words) for Naive Bayes - Class 1 (soc.religion.christian):\n",
            "god\n",
            "edu\n",
            "jesus\n",
            "church\n",
            "com\n",
            "christian\n",
            "people\n",
            "sin\n",
            "christ\n",
            "christians\n",
            "subject\n",
            "bible\n",
            "lines\n",
            "know\n",
            "rutgers\n",
            "think\n",
            "organization\n",
            "believe\n",
            "university\n",
            "christianity\n"
          ]
        },
        {
          "output_type": "display_data",
          "data": {
            "text/plain": [
              "<Figure size 1200x500 with 2 Axes>"
            ],
            "image/png": "[encoded data removed]"
          },
          "metadata": {}
        }
      ]
    },
    {
      "cell_type": "markdown",
      "source": [
        "### Explanation of Naive Bayes Model Inspection\n",
        "\n",
        "This is the same model inspection code for Naive Bayes that we used in the previous lesson.  It extracts and displays the **top 20 features (words) with the highest log-probabilities for each class** ('alt.atheism' and 'soc.religion.christian').\n",
        "\n",
        "Run this code and examine the \"Top 20 Features\" for each class.\n",
        "\n",
        "**Interpreting Naive Bayes Feature Log-Probabilities:**\n",
        "\n",
        "*   Remember, in Naive Bayes, **feature log-probabilities** indicate how likely each word is to appear in documents of a particular class.\n",
        "*   **Higher log-probability** for a word in a class means the model considers that word **more strongly associated with that class**.\n",
        "\n",
        "Do the top words for each class make sense in the context of 'alt.atheism' and 'soc.religion.christian'? Are they different from the top features you observed for Logistic Regression?\n",
        "\n",
        "Now, let's tune the hyperparameters of the Naive Bayes classifier using GridSearchCV!"
      ],
      "metadata": {
        "id": "VA_WKW_7_aBs"
      }
    },
    {
      "cell_type": "code",
      "source": [
        "# Code Cell 4: Naive Bayes Hyperparameter Tuning (GridSearchCV)\n",
        "from sklearn.datasets import fetch_20newsgroups\n",
        "from sklearn.model_selection import train_test_split, GridSearchCV\n",
        "from sklearn.feature_extraction.text import TfidfVectorizer\n",
        "from sklearn.naive_bayes import MultinomialNB\n",
        "from sklearn.pipeline import Pipeline\n",
        "from sklearn.metrics import classification_report\n",
        "\n",
        "# 1. Load Dataset & Split Data (Same as before)\n",
        "newsgroups = fetch_20newsgroups(subset='all', categories=['alt.atheism', 'soc.religion.christian'])\n",
        "X, y = newsgroups.data, newsgroups.target\n",
        "target_names = newsgroups.target_names\n",
        "X_train, X_test, y_train, y_test = train_test_split(X, y, test_size=0.3, random_state=42)\n",
        "\n",
        "# 2. Create Naive Bayes Pipeline (TF-IDF) - (Same pipeline as before)\n",
        "nb_pipeline_tfidf = Pipeline([\n",
        "    ('tfidf', TfidfVectorizer(stop_words='english', max_features=5000)),\n",
        "    ('nb', MultinomialNB())\n",
        "])\n",
        "\n",
        "# 3. Define Hyperparameter Grid for Naive Bayes GridSearchCV\n",
        "param_grid_nb = {\n",
        "    'tfidf__ngram_range': [(1, 1), (1, 2)], # Tune ngram range for TF-IDF\n",
        "    'tfidf__use_idf': [True, False], # Tune use_idf for TF-IDF (whether to use IDF weighting)\n",
        "    'nb__alpha': [0.1, 1.0, 2.0], # Tune alpha (smoothing parameter) for MultinomialNB\n",
        "}\n",
        "\n",
        "# 4. Set up GridSearchCV for Naive Bayes\n",
        "grid_search_nb = GridSearchCV(nb_pipeline_tfidf, param_grid_nb, cv=5, scoring='f1_macro', n_jobs=-1)\n",
        "\n",
        "# 5. Run GridSearchCV for Naive Bayes (Fit on training data - longer)\n",
        "grid_search_nb.fit(X_train, y_train)\n",
        "\n",
        "# 6. Get Best Model and Best Parameters for Naive Bayes\n",
        "best_nb_pipeline = grid_search_nb.best_estimator_\n",
        "best_params_nb = grid_search_nb.best_params_\n",
        "\n",
        "print(\"Best Naive Bayes Pipeline Parameters from GridSearchCV:\")\n",
        "print(best_params_nb)\n",
        "\n",
        "# 7. Evaluate Best Naive Bayes Model on Test Set\n",
        "y_pred_best_nb = best_nb_pipeline.predict(X_test)\n",
        "print(\"\\nClassification Report for Best Naive Bayes Pipeline (on Test Set):\")\n",
        "print(classification_report(y_test, y_pred_best_nb, target_names=target_names))"
      ],
      "metadata": {
        "colab": {
          "base_uri": "https://localhost:8080/"
        },
        "id": "9LAGNrOg_ck0",
        "outputId": "62870fa6-5230-42b2-f08e-3fefef89b423"
      },
      "execution_count": null,
      "outputs": [
        {
          "output_type": "stream",
          "name": "stdout",
          "text": [
            "Best Naive Bayes Pipeline Parameters from GridSearchCV:\n",
            "{'nb__alpha': 0.1, 'tfidf__ngram_range': (1, 2), 'tfidf__use_idf': True}\n",
            "\n",
            "Classification Report for Best Naive Bayes Pipeline (on Test Set):\n",
            "                        precision    recall  f1-score   support\n",
            "\n",
            "           alt.atheism       0.98      0.97      0.97       235\n",
            "soc.religion.christian       0.98      0.98      0.98       304\n",
            "\n",
            "              accuracy                           0.98       539\n",
            "             macro avg       0.98      0.98      0.98       539\n",
            "          weighted avg       0.98      0.98      0.98       539\n",
            "\n"
          ]
        }
      ]
    },
    {
      "cell_type": "markdown",
      "source": [
        "### Explanation of Naive Bayes Hyperparameter Tuning with GridSearchCV\n",
        "\n",
        "Let's understand the hyperparameter tuning code for Naive Bayes:\n",
        "\n",
        "*   **Step 3: Define Hyperparameter Grid for Naive Bayes GridSearchCV:**\n",
        "    *   `param_grid_nb` defines the hyperparameter grid specifically for the Naive Bayes pipeline.\n",
        "    *   We are tuning:\n",
        "        *   `tfidf__ngram_range`:  Trying unigrams and bigrams for TF-IDF.\n",
        "        *   `tfidf__use_idf`:  Trying both `True` (use IDF weighting) and `False` (no IDF weighting) for TF-IDF.\n",
        "        *   `nb__alpha`:  Tuning the `alpha` parameter of `MultinomialNB`.\n",
        "            *   **`alpha` (Smoothing Parameter):**  `alpha` is a smoothing parameter in Multinomial Naive Bayes (also known as Laplace or Lidstone smoothing). It prevents issues with zero counts.\n",
        "            *   If a word does not appear in the training data for a particular class, its probability would be zero without smoothing. This can cause problems in Naive Bayes calculations.\n",
        "            *   `alpha > 0` adds a small count (alpha) to all word counts for each class, ensuring that no probabilities are exactly zero.\n",
        "            *   Tuning `alpha` can sometimes improve performance. Common values to try are in the range of 0 to a few units (e.g., 0.1, 0.5, 1.0, 2.0...). `alpha=1.0` is often used as default (Laplace smoothing).\n",
        "\n",
        "*   **Step 4: Set up GridSearchCV for Naive Bayes:** We create `grid_search_nb` using the `nb_pipeline_tfidf` and `param_grid_nb`.\n",
        "\n",
        "The rest of the GridSearchCV process (Steps 5-7) is the same as we saw in the previous lesson: GridSearchCV explores the hyperparameter grid, performs cross-validation, finds the best parameters, and evaluates the best model on the test set.\n",
        "\n",
        "Run the Naive Bayes GridSearchCV code. It will take some time. Examine the \"Best Parameters\" and the \"Classification Report for Best Naive Bayes Pipeline\". Did hyperparameter tuning improve the performance of the Naive Bayes classifier? What are the best hyperparameters found by GridSearchCV?\n",
        "\n",
        "Now, let's move on to experimentation prompts to further explore Naive Bayes."
      ],
      "metadata": {
        "id": "SyjoeeUX_gh_"
      }
    },
    {
      "cell_type": "markdown",
      "source": [
        "### Experimentation Prompts - Naive Bayes Deep Dive\n",
        "\n",
        "Time to experiment specifically with Naive Bayes! Try these:\n",
        "\n",
        "1.  **Datasets and Naive Bayes Performance:**\n",
        "    *   Change the `categories` in `fetch_20newsgroups` to different pairs of categories (like in the previous lesson's experimentation prompts).\n",
        "    *   For each dataset:\n",
        "        *   Run GridSearchCV for the Naive Bayes pipeline (with the `param_grid_nb` we defined).\n",
        "        *   Compare the best performance of Naive Bayes on different datasets.\n",
        "        *   Is Naive Bayes performance consistent across different topic pairs, or does it work better for some datasets than others?\n",
        "\n",
        "2.  **Tuning `alpha` (Smoothing):**\n",
        "    *   Expand the `nb__alpha` values in `param_grid_nb` to include a wider range (e.g., `[0.0001, 0.01, 0.1, 0.5, 1.0, 2.0, 5.0]`).  Small values like `0.0001` mean very little smoothing, while larger values mean more smoothing.\n",
        "    *   How does the choice of `alpha` affect Naive Bayes performance? Is there an optimal range of `alpha` values?\n",
        "\n",
        "3.  **Vectorizers and Naive Bayes:**\n",
        "    *   Experiment with different vectorizers in the Naive Bayes pipeline:\n",
        "        *   **`CountVectorizer` (BoW):** We already tried this.\n",
        "        *   **`TfidfVectorizer` (TF-IDF):**  Our default.\n",
        "        *   **Try different parameters within `CountVectorizer` and `TfidfVectorizer`** (e.g., `ngram_range`, `max_df`, `min_df`, `max_features`).  You can add these to your `param_grid_nb` to tune them along with Naive Bayes hyperparameters.\n",
        "    *   Which vectorizer (and vectorizer parameters) works best with Naive Bayes for text classification?\n",
        "\n",
        "4.  **Bernoulli Naive Bayes:**\n",
        "    *   Try using `BernoulliNB` instead of `MultinomialNB` in the pipeline.\n",
        "    *   You'll likely need to binarize your features for BernoulliNB to be most effective (e.g., using `CountVectorizer(binary=True)` or `TfidfTransformer(transformer='binarize')` after TF-IDF).  Experiment with binarization and BernoulliNB.\n",
        "    *   How does Bernoulli Naive Bayes compare to Multinomial Naive Bayes for text classification on this dataset?  When might you choose one over the other?\n",
        "\n",
        "Think about these questions as you experiment:\n",
        "\n",
        "*   Is Naive Bayes sensitive to hyperparameter tuning?\n",
        "*   How does the choice of vectorizer interact with Naive Bayes performance?\n",
        "*   When is Naive Bayes a good choice for text classification, and when might you consider other models?\n",
        "\n",
        "After your experiments, read the summary and key takeaways for this lesson."
      ],
      "metadata": {
        "id": "4P0zKZK8_iBC"
      }
    },
    {
      "cell_type": "markdown",
      "source": [
        "### Summary and Next Steps - Naive Bayes Focus\n",
        "\n",
        "Excellent work focusing on Naive Bayes! In this lesson, you've:\n",
        "\n",
        "*   Built and understood **Naive Bayes pipelines**.\n",
        "*   Learned about the **\"naive\" independence assumption** and why Naive Bayes works for text.\n",
        "*   Explored **different types of Naive Bayes classifiers**, with a focus on **MultinomialNB**.\n",
        "*   Experimented with **vectorizers** and **hyperparameter tuning** for Naive Bayes.\n",
        "*   Inspected a Naive Bayes model to understand **feature log-probabilities**.\n",
        "\n",
        "**Key Takeaways for Naive Bayes:**\n",
        "\n",
        "*   Naive Bayes is a **simple, fast, and often effective** classifier for text, especially for tasks like topic categorization and spam detection.\n",
        "*   **Multinomial Naive Bayes (`MultinomialNB`)** is often a good choice for text data represented as word counts or TF-IDF.\n",
        "*   **TF-IDF vectorization** often improves Naive Bayes performance compared to simple Bag of Words.\n",
        "*   **Hyperparameter tuning (especially `alpha` smoothing)** can sometimes provide small performance gains for Naive Bayes.\n",
        "*   Naive Bayes is relatively **interpretable** – feature log-probabilities help understand word importance for each class.\n",
        "*   Despite its \"naive\" assumptions, Naive Bayes is a valuable tool in the text classification toolkit, especially as a **baseline model** and for tasks where speed and simplicity are important.\n",
        "\n",
        "**Next Steps:**\n",
        "\n",
        "In the upcoming lessons, we'll continue to expand our toolkit with more powerful models:\n",
        "\n",
        "*   **Random Forest** ensemble methods.\n",
        "*   **Neural Networks** for text classification, starting with Feedforward Networks and then moving to Recurrent Neural Networks.\n",
        "*   Advanced text representation techniques like **word embeddings**.\n",
        "\n",
        "By understanding models like Naive Bayes in depth, you are building a strong foundation for tackling more complex text analysis challenges! Keep experimenting and exploring!"
      ],
      "metadata": {
        "id": "b7yfzQFk_lS4"
      }
    },
    {
      "cell_type": "markdown",
      "source": [
        "### Key Takeaways for Lesson #3b (Naive Bayes Specific):\n",
        "\n",
        "*   Naive Bayes is a probabilistic classifier based on Bayes' Theorem and the naive feature independence assumption.\n",
        "*   MultinomialNB is well-suited for text data (word counts, TF-IDF).\n",
        "*   TF-IDF often enhances Naive Bayes performance.\n",
        "*   `alpha` (smoothing) is a key hyperparameter for MultinomialNB.\n",
        "*   Naive Bayes is fast, simple, interpretable, and a good baseline for text classification.\n",
        "*   Experiment with different vectorizers and hyperparameters to optimize Naive Bayes for your task."
      ],
      "metadata": {
        "id": "4w5Da5XA_nU2"
      }
    },
    {
      "cell_type": "markdown",
      "source": [
        "### Resources for Lesson #3b (Naive Bayes Specific):\n",
        "\n",
        "*   **Scikit-learn documentation on `MultinomialNB`:** [https://scikit-learn.org/stable/modules/generated/sklearn.naive_bayes.MultinomialNB.html](https://scikit-learn.org/stable/modules/generated/sklearn.naive_bayes.MultinomialNB.html)\n",
        "*   **Scikit-learn documentation on `BernoulliNB`:** [https://scikit-learn.org/stable/modules/generated/sklearn.naive_bayes.BernoulliNB.html](https://scikit-learn.org/stable/modules/generated/sklearn.naive_bayes.BernoulliNB.html)\n",
        "*   **Scikit-learn documentation on `GaussianNB`:** [https://scikit-learn.org/stable/modules/generated/sklearn.naive_bayes.GaussianNB.html](https://scikit-learn.org/stable/modules/generated/sklearn.naive_bayes.GaussianNB.html)"
      ],
      "metadata": {
        "id": "P7UPQZ3H_q_y"
      }
    },
    {
      "cell_type": "markdown",
      "source": [
        "### Additional Notes - Naive Bayes Specific Considerations:\n",
        "\n",
        "*   **Feature Independence Assumption:** Always remember the \"naive\" feature independence assumption of Naive Bayes. While it often works well, it's important to be aware of this limitation. For tasks where word order and feature dependencies are very crucial, more complex models that can capture these dependencies (like Recurrent Neural Networks) might be necessary.\n",
        "\n",
        "*   **Zero Counts and Smoothing (`alpha`):** Smoothing with `alpha` is important for Multinomial Naive Bayes, especially when dealing with text data. Experiment with different `alpha` values during hyperparameter tuning to find a good balance.\n",
        "\n",
        "*   **Negative Values:**  Multinomial Naive Bayes is designed for non-negative features (counts or TF-IDF values).  If you use vectorization techniques that can produce negative values (though less common with basic TF-IDF or BoW), you might need to consider other Naive Bayes variants or models.\n",
        "\n",
        "*   **Dataset Size:** Naive Bayes can perform surprisingly well even with relatively small datasets, and it often benefits from larger datasets.\n",
        "\n",
        "*   **Baseline Model:**  Naive Bayes is often a great choice as a **baseline model** to compare against more complex classifiers.  If a more complex model doesn't significantly outperform Naive Bayes, the simpler Naive Bayes model might be preferred due to its speed and interpretability."
      ],
      "metadata": {
        "id": "ZClk3Jdb_tJS"
      }
    }
  ]
}