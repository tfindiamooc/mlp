{
  "nbformat": 4,
  "nbformat_minor": 0,
  "metadata": {
    "colab": {
      "provenance": [],
      "include_colab_link": true
    },
    "kernelspec": {
      "name": "python3",
      "display_name": "Python 3"
    },
    "language_info": {
      "name": "python"
    }
  },
  "cells": [
    {
      "cell_type": "markdown",
      "metadata": {
        "id": "view-in-github",
        "colab_type": "text"
      },
      "source": [
        "<a href=\"https://colab.research.google.com/github/tfindiamooc/mlp/blob/feature/TextAnalysisClass3.ipynb\" target=\"_parent\"><img src=\"https://colab.research.google.com/assets/colab-badge.svg\" alt=\"Open In Colab\"/></a>"
      ]
    },
    {
      "cell_type": "markdown",
      "source": [
        "# Text classification with Logistic Regression"
      ],
      "metadata": {
        "id": "PW0dXLt21dOB"
      }
    },
    {
      "cell_type": "markdown",
      "source": [
        "Welcome to Lesson #3! In the last two lessons, you learned how to preprocess and vectorize text data. Now, it's time to build text classifiers!"
      ],
      "metadata": {
        "id": "n_AaEhmb1fgZ"
      }
    },
    {
      "cell_type": "markdown",
      "source": [
        "In this lesson, we'll:\n",
        "\n",
        "*   Build **pipelines** for text classification using **Logistic Regression**.\n",
        "*   Learn how to **inspect** the model to understand how it works.\n",
        "*   Use **GridSearchCV** to **tune hyperparameters** and improve model performance.\n",
        "\n",
        "Let's start by building basic pipelines for Logistic Regression!"
      ],
      "metadata": {
        "id": "ANkkA7tY1kor"
      }
    },
    {
      "cell_type": "code",
      "execution_count": null,
      "metadata": {
        "id": "m1JSbPTD0cbE"
      },
      "outputs": [],
      "source": [
        "# import libraries\n",
        "from sklearn.datasets import fetch_20newsgroups\n",
        "from sklearn.model_selection import train_test_split\n",
        "from sklearn.feature_extraction.text import TfidfVectorizer\n",
        "from sklearn.linear_model import LogisticRegression\n",
        "from sklearn.pipeline import Pipeline\n",
        "from sklearn.metrics import classification_report"
      ]
    },
    {
      "cell_type": "markdown",
      "source": [
        "## Load Dataset"
      ],
      "metadata": {
        "id": "Ne1d_MDg5ZiP"
      }
    },
    {
      "cell_type": "code",
      "source": [
        "# 1. Load Dataset\n",
        "newsgroups = fetch_20newsgroups(\n",
        "    subset='all',\n",
        "    categories=['alt.atheism', 'soc.religion.christian'])\n",
        "X, y = newsgroups.data, newsgroups.target\n",
        "target_names = newsgroups.target_names"
      ],
      "metadata": {
        "id": "5JwexKcs10aL"
      },
      "execution_count": null,
      "outputs": []
    },
    {
      "cell_type": "markdown",
      "source": [
        "**Load dataset**: We are using the `fetch_20newsgroups` dataset, focusing on the 'alt.atheism' and 'soc.religion.christian' categories."
      ],
      "metadata": {
        "id": "VSOtASuB2brI"
      }
    },
    {
      "cell_type": "markdown",
      "source": [
        "## Train-test split"
      ],
      "metadata": {
        "id": "YDNySGMl5dgf"
      }
    },
    {
      "cell_type": "code",
      "source": [
        "# 2. Split Data\n",
        "X_train, X_test, y_train, y_test = train_test_split(\n",
        "    X, y, test_size=0.3, random_state=42)"
      ],
      "metadata": {
        "id": "fHnFLJnO12uA"
      },
      "execution_count": null,
      "outputs": []
    },
    {
      "cell_type": "markdown",
      "source": [
        "**Split data:** We split the data into training and test sets.  We are setting aside 30% exampels for test."
      ],
      "metadata": {
        "id": "4RUXqFG32cy2"
      }
    },
    {
      "cell_type": "code",
      "source": [
        "# 3. Create Logistic Regression Pipeline\n",
        "logreg_pipeline = Pipeline([\n",
        "    ('tfidf', TfidfVectorizer(stop_words='english', max_features=5000)),\n",
        "    ('logreg', LogisticRegression(max_iter=1000))\n",
        "])"
      ],
      "metadata": {
        "id": "Br7mOeKQ16CF"
      },
      "execution_count": null,
      "outputs": []
    },
    {
      "cell_type": "markdown",
      "source": [
        "Let's understand the Logistic Regression pipeline code:\n",
        "*   `TfidfVectorizer`:  We use TF-IDF to vectorize the text data, just like in the previous lesson.\n",
        "*   `LogisticRegression`: This is the classification model. Logistic Regression is a linear model that's effective for binary and multi-class classification.\n"
      ],
      "metadata": {
        "id": "Z4BJWZvC2YFv"
      }
    },
    {
      "cell_type": "markdown",
      "source": [
        "## Model training"
      ],
      "metadata": {
        "id": "41myYj0z5jng"
      }
    },
    {
      "cell_type": "code",
      "source": [
        "# 4. Train Pipeline\n",
        "logreg_pipeline.fit(X_train, y_train)"
      ],
      "metadata": {
        "colab": {
          "base_uri": "https://localhost:8080/",
          "height": 156
        },
        "id": "kc7C82gg18Gp",
        "outputId": "16f3eb54-ac6e-476e-c71f-ad805b513335"
      },
      "execution_count": null,
      "outputs": [
        {
          "output_type": "execute_result",
          "data": {
            "text/plain": [
              "Pipeline(steps=[('tfidf',\n",
              "                 TfidfVectorizer(max_features=5000, stop_words='english')),\n",
              "                ('logreg', LogisticRegression(max_iter=1000))])"
            ],
            "text/html": [
              "<style>#sk-container-id-1 {\n",
              "  /* Definition of color scheme common for light and dark mode */\n",
              "  --sklearn-color-text: #000;\n",
              "  --sklearn-color-text-muted: #666;\n",
              "  --sklearn-color-line: gray;\n",
              "  /* Definition of color scheme for unfitted estimators */\n",
              "  --sklearn-color-unfitted-level-0: #fff5e6;\n",
              "  --sklearn-color-unfitted-level-1: #f6e4d2;\n",
              "  --sklearn-color-unfitted-level-2: #ffe0b3;\n",
              "  --sklearn-color-unfitted-level-3: chocolate;\n",
              "  /* Definition of color scheme for fitted estimators */\n",
              "  --sklearn-color-fitted-level-0: #f0f8ff;\n",
              "  --sklearn-color-fitted-level-1: #d4ebff;\n",
              "  --sklearn-color-fitted-level-2: #b3dbfd;\n",
              "  --sklearn-color-fitted-level-3: cornflowerblue;\n",
              "\n",
              "  /* Specific color for light theme */\n",
              "  --sklearn-color-text-on-default-background: var(--sg-text-color, var(--theme-code-foreground, var(--jp-content-font-color1, black)));\n",
              "  --sklearn-color-background: var(--sg-background-color, var(--theme-background, var(--jp-layout-color0, white)));\n",
              "  --sklearn-color-border-box: var(--sg-text-color, var(--theme-code-foreground, var(--jp-content-font-color1, black)));\n",
              "  --sklearn-color-icon: #696969;\n",
              "\n",
              "  @media (prefers-color-scheme: dark) {\n",
              "    /* Redefinition of color scheme for dark theme */\n",
              "    --sklearn-color-text-on-default-background: var(--sg-text-color, var(--theme-code-foreground, var(--jp-content-font-color1, white)));\n",
              "    --sklearn-color-background: var(--sg-background-color, var(--theme-background, var(--jp-layout-color0, #111)));\n",
              "    --sklearn-color-border-box: var(--sg-text-color, var(--theme-code-foreground, var(--jp-content-font-color1, white)));\n",
              "    --sklearn-color-icon: #878787;\n",
              "  }\n",
              "}\n",
              "\n",
              "#sk-container-id-1 {\n",
              "  color: var(--sklearn-color-text);\n",
              "}\n",
              "\n",
              "#sk-container-id-1 pre {\n",
              "  padding: 0;\n",
              "}\n",
              "\n",
              "#sk-container-id-1 input.sk-hidden--visually {\n",
              "  border: 0;\n",
              "  clip: rect(1px 1px 1px 1px);\n",
              "  clip: rect(1px, 1px, 1px, 1px);\n",
              "  height: 1px;\n",
              "  margin: -1px;\n",
              "  overflow: hidden;\n",
              "  padding: 0;\n",
              "  position: absolute;\n",
              "  width: 1px;\n",
              "}\n",
              "\n",
              "#sk-container-id-1 div.sk-dashed-wrapped {\n",
              "  border: 1px dashed var(--sklearn-color-line);\n",
              "  margin: 0 0.4em 0.5em 0.4em;\n",
              "  box-sizing: border-box;\n",
              "  padding-bottom: 0.4em;\n",
              "  background-color: var(--sklearn-color-background);\n",
              "}\n",
              "\n",
              "#sk-container-id-1 div.sk-container {\n",
              "  /* jupyter's `normalize.less` sets `[hidden] { display: none; }`\n",
              "     but bootstrap.min.css set `[hidden] { display: none !important; }`\n",
              "     so we also need the `!important` here to be able to override the\n",
              "     default hidden behavior on the sphinx rendered scikit-learn.org.\n",
              "     See: https://github.com/scikit-learn/scikit-learn/issues/21755 */\n",
              "  display: inline-block !important;\n",
              "  position: relative;\n",
              "}\n",
              "\n",
              "#sk-container-id-1 div.sk-text-repr-fallback {\n",
              "  display: none;\n",
              "}\n",
              "\n",
              "div.sk-parallel-item,\n",
              "div.sk-serial,\n",
              "div.sk-item {\n",
              "  /* draw centered vertical line to link estimators */\n",
              "  background-image: linear-gradient(var(--sklearn-color-text-on-default-background), var(--sklearn-color-text-on-default-background));\n",
              "  background-size: 2px 100%;\n",
              "  background-repeat: no-repeat;\n",
              "  background-position: center center;\n",
              "}\n",
              "\n",
              "/* Parallel-specific style estimator block */\n",
              "\n",
              "#sk-container-id-1 div.sk-parallel-item::after {\n",
              "  content: \"\";\n",
              "  width: 100%;\n",
              "  border-bottom: 2px solid var(--sklearn-color-text-on-default-background);\n",
              "  flex-grow: 1;\n",
              "}\n",
              "\n",
              "#sk-container-id-1 div.sk-parallel {\n",
              "  display: flex;\n",
              "  align-items: stretch;\n",
              "  justify-content: center;\n",
              "  background-color: var(--sklearn-color-background);\n",
              "  position: relative;\n",
              "}\n",
              "\n",
              "#sk-container-id-1 div.sk-parallel-item {\n",
              "  display: flex;\n",
              "  flex-direction: column;\n",
              "}\n",
              "\n",
              "#sk-container-id-1 div.sk-parallel-item:first-child::after {\n",
              "  align-self: flex-end;\n",
              "  width: 50%;\n",
              "}\n",
              "\n",
              "#sk-container-id-1 div.sk-parallel-item:last-child::after {\n",
              "  align-self: flex-start;\n",
              "  width: 50%;\n",
              "}\n",
              "\n",
              "#sk-container-id-1 div.sk-parallel-item:only-child::after {\n",
              "  width: 0;\n",
              "}\n",
              "\n",
              "/* Serial-specific style estimator block */\n",
              "\n",
              "#sk-container-id-1 div.sk-serial {\n",
              "  display: flex;\n",
              "  flex-direction: column;\n",
              "  align-items: center;\n",
              "  background-color: var(--sklearn-color-background);\n",
              "  padding-right: 1em;\n",
              "  padding-left: 1em;\n",
              "}\n",
              "\n",
              "\n",
              "/* Toggleable style: style used for estimator/Pipeline/ColumnTransformer box that is\n",
              "clickable and can be expanded/collapsed.\n",
              "- Pipeline and ColumnTransformer use this feature and define the default style\n",
              "- Estimators will overwrite some part of the style using the `sk-estimator` class\n",
              "*/\n",
              "\n",
              "/* Pipeline and ColumnTransformer style (default) */\n",
              "\n",
              "#sk-container-id-1 div.sk-toggleable {\n",
              "  /* Default theme specific background. It is overwritten whether we have a\n",
              "  specific estimator or a Pipeline/ColumnTransformer */\n",
              "  background-color: var(--sklearn-color-background);\n",
              "}\n",
              "\n",
              "/* Toggleable label */\n",
              "#sk-container-id-1 label.sk-toggleable__label {\n",
              "  cursor: pointer;\n",
              "  display: flex;\n",
              "  width: 100%;\n",
              "  margin-bottom: 0;\n",
              "  padding: 0.5em;\n",
              "  box-sizing: border-box;\n",
              "  text-align: center;\n",
              "  align-items: start;\n",
              "  justify-content: space-between;\n",
              "  gap: 0.5em;\n",
              "}\n",
              "\n",
              "#sk-container-id-1 label.sk-toggleable__label .caption {\n",
              "  font-size: 0.6rem;\n",
              "  font-weight: lighter;\n",
              "  color: var(--sklearn-color-text-muted);\n",
              "}\n",
              "\n",
              "#sk-container-id-1 label.sk-toggleable__label-arrow:before {\n",
              "  /* Arrow on the left of the label */\n",
              "  content: \"▸\";\n",
              "  float: left;\n",
              "  margin-right: 0.25em;\n",
              "  color: var(--sklearn-color-icon);\n",
              "}\n",
              "\n",
              "#sk-container-id-1 label.sk-toggleable__label-arrow:hover:before {\n",
              "  color: var(--sklearn-color-text);\n",
              "}\n",
              "\n",
              "/* Toggleable content - dropdown */\n",
              "\n",
              "#sk-container-id-1 div.sk-toggleable__content {\n",
              "  max-height: 0;\n",
              "  max-width: 0;\n",
              "  overflow: hidden;\n",
              "  text-align: left;\n",
              "  /* unfitted */\n",
              "  background-color: var(--sklearn-color-unfitted-level-0);\n",
              "}\n",
              "\n",
              "#sk-container-id-1 div.sk-toggleable__content.fitted {\n",
              "  /* fitted */\n",
              "  background-color: var(--sklearn-color-fitted-level-0);\n",
              "}\n",
              "\n",
              "#sk-container-id-1 div.sk-toggleable__content pre {\n",
              "  margin: 0.2em;\n",
              "  border-radius: 0.25em;\n",
              "  color: var(--sklearn-color-text);\n",
              "  /* unfitted */\n",
              "  background-color: var(--sklearn-color-unfitted-level-0);\n",
              "}\n",
              "\n",
              "#sk-container-id-1 div.sk-toggleable__content.fitted pre {\n",
              "  /* unfitted */\n",
              "  background-color: var(--sklearn-color-fitted-level-0);\n",
              "}\n",
              "\n",
              "#sk-container-id-1 input.sk-toggleable__control:checked~div.sk-toggleable__content {\n",
              "  /* Expand drop-down */\n",
              "  max-height: 200px;\n",
              "  max-width: 100%;\n",
              "  overflow: auto;\n",
              "}\n",
              "\n",
              "#sk-container-id-1 input.sk-toggleable__control:checked~label.sk-toggleable__label-arrow:before {\n",
              "  content: \"▾\";\n",
              "}\n",
              "\n",
              "/* Pipeline/ColumnTransformer-specific style */\n",
              "\n",
              "#sk-container-id-1 div.sk-label input.sk-toggleable__control:checked~label.sk-toggleable__label {\n",
              "  color: var(--sklearn-color-text);\n",
              "  background-color: var(--sklearn-color-unfitted-level-2);\n",
              "}\n",
              "\n",
              "#sk-container-id-1 div.sk-label.fitted input.sk-toggleable__control:checked~label.sk-toggleable__label {\n",
              "  background-color: var(--sklearn-color-fitted-level-2);\n",
              "}\n",
              "\n",
              "/* Estimator-specific style */\n",
              "\n",
              "/* Colorize estimator box */\n",
              "#sk-container-id-1 div.sk-estimator input.sk-toggleable__control:checked~label.sk-toggleable__label {\n",
              "  /* unfitted */\n",
              "  background-color: var(--sklearn-color-unfitted-level-2);\n",
              "}\n",
              "\n",
              "#sk-container-id-1 div.sk-estimator.fitted input.sk-toggleable__control:checked~label.sk-toggleable__label {\n",
              "  /* fitted */\n",
              "  background-color: var(--sklearn-color-fitted-level-2);\n",
              "}\n",
              "\n",
              "#sk-container-id-1 div.sk-label label.sk-toggleable__label,\n",
              "#sk-container-id-1 div.sk-label label {\n",
              "  /* The background is the default theme color */\n",
              "  color: var(--sklearn-color-text-on-default-background);\n",
              "}\n",
              "\n",
              "/* On hover, darken the color of the background */\n",
              "#sk-container-id-1 div.sk-label:hover label.sk-toggleable__label {\n",
              "  color: var(--sklearn-color-text);\n",
              "  background-color: var(--sklearn-color-unfitted-level-2);\n",
              "}\n",
              "\n",
              "/* Label box, darken color on hover, fitted */\n",
              "#sk-container-id-1 div.sk-label.fitted:hover label.sk-toggleable__label.fitted {\n",
              "  color: var(--sklearn-color-text);\n",
              "  background-color: var(--sklearn-color-fitted-level-2);\n",
              "}\n",
              "\n",
              "/* Estimator label */\n",
              "\n",
              "#sk-container-id-1 div.sk-label label {\n",
              "  font-family: monospace;\n",
              "  font-weight: bold;\n",
              "  display: inline-block;\n",
              "  line-height: 1.2em;\n",
              "}\n",
              "\n",
              "#sk-container-id-1 div.sk-label-container {\n",
              "  text-align: center;\n",
              "}\n",
              "\n",
              "/* Estimator-specific */\n",
              "#sk-container-id-1 div.sk-estimator {\n",
              "  font-family: monospace;\n",
              "  border: 1px dotted var(--sklearn-color-border-box);\n",
              "  border-radius: 0.25em;\n",
              "  box-sizing: border-box;\n",
              "  margin-bottom: 0.5em;\n",
              "  /* unfitted */\n",
              "  background-color: var(--sklearn-color-unfitted-level-0);\n",
              "}\n",
              "\n",
              "#sk-container-id-1 div.sk-estimator.fitted {\n",
              "  /* fitted */\n",
              "  background-color: var(--sklearn-color-fitted-level-0);\n",
              "}\n",
              "\n",
              "/* on hover */\n",
              "#sk-container-id-1 div.sk-estimator:hover {\n",
              "  /* unfitted */\n",
              "  background-color: var(--sklearn-color-unfitted-level-2);\n",
              "}\n",
              "\n",
              "#sk-container-id-1 div.sk-estimator.fitted:hover {\n",
              "  /* fitted */\n",
              "  background-color: var(--sklearn-color-fitted-level-2);\n",
              "}\n",
              "\n",
              "/* Specification for estimator info (e.g. \"i\" and \"?\") */\n",
              "\n",
              "/* Common style for \"i\" and \"?\" */\n",
              "\n",
              ".sk-estimator-doc-link,\n",
              "a:link.sk-estimator-doc-link,\n",
              "a:visited.sk-estimator-doc-link {\n",
              "  float: right;\n",
              "  font-size: smaller;\n",
              "  line-height: 1em;\n",
              "  font-family: monospace;\n",
              "  background-color: var(--sklearn-color-background);\n",
              "  border-radius: 1em;\n",
              "  height: 1em;\n",
              "  width: 1em;\n",
              "  text-decoration: none !important;\n",
              "  margin-left: 0.5em;\n",
              "  text-align: center;\n",
              "  /* unfitted */\n",
              "  border: var(--sklearn-color-unfitted-level-1) 1pt solid;\n",
              "  color: var(--sklearn-color-unfitted-level-1);\n",
              "}\n",
              "\n",
              ".sk-estimator-doc-link.fitted,\n",
              "a:link.sk-estimator-doc-link.fitted,\n",
              "a:visited.sk-estimator-doc-link.fitted {\n",
              "  /* fitted */\n",
              "  border: var(--sklearn-color-fitted-level-1) 1pt solid;\n",
              "  color: var(--sklearn-color-fitted-level-1);\n",
              "}\n",
              "\n",
              "/* On hover */\n",
              "div.sk-estimator:hover .sk-estimator-doc-link:hover,\n",
              ".sk-estimator-doc-link:hover,\n",
              "div.sk-label-container:hover .sk-estimator-doc-link:hover,\n",
              ".sk-estimator-doc-link:hover {\n",
              "  /* unfitted */\n",
              "  background-color: var(--sklearn-color-unfitted-level-3);\n",
              "  color: var(--sklearn-color-background);\n",
              "  text-decoration: none;\n",
              "}\n",
              "\n",
              "div.sk-estimator.fitted:hover .sk-estimator-doc-link.fitted:hover,\n",
              ".sk-estimator-doc-link.fitted:hover,\n",
              "div.sk-label-container:hover .sk-estimator-doc-link.fitted:hover,\n",
              ".sk-estimator-doc-link.fitted:hover {\n",
              "  /* fitted */\n",
              "  background-color: var(--sklearn-color-fitted-level-3);\n",
              "  color: var(--sklearn-color-background);\n",
              "  text-decoration: none;\n",
              "}\n",
              "\n",
              "/* Span, style for the box shown on hovering the info icon */\n",
              ".sk-estimator-doc-link span {\n",
              "  display: none;\n",
              "  z-index: 9999;\n",
              "  position: relative;\n",
              "  font-weight: normal;\n",
              "  right: .2ex;\n",
              "  padding: .5ex;\n",
              "  margin: .5ex;\n",
              "  width: min-content;\n",
              "  min-width: 20ex;\n",
              "  max-width: 50ex;\n",
              "  color: var(--sklearn-color-text);\n",
              "  box-shadow: 2pt 2pt 4pt #999;\n",
              "  /* unfitted */\n",
              "  background: var(--sklearn-color-unfitted-level-0);\n",
              "  border: .5pt solid var(--sklearn-color-unfitted-level-3);\n",
              "}\n",
              "\n",
              ".sk-estimator-doc-link.fitted span {\n",
              "  /* fitted */\n",
              "  background: var(--sklearn-color-fitted-level-0);\n",
              "  border: var(--sklearn-color-fitted-level-3);\n",
              "}\n",
              "\n",
              ".sk-estimator-doc-link:hover span {\n",
              "  display: block;\n",
              "}\n",
              "\n",
              "/* \"?\"-specific style due to the `<a>` HTML tag */\n",
              "\n",
              "#sk-container-id-1 a.estimator_doc_link {\n",
              "  float: right;\n",
              "  font-size: 1rem;\n",
              "  line-height: 1em;\n",
              "  font-family: monospace;\n",
              "  background-color: var(--sklearn-color-background);\n",
              "  border-radius: 1rem;\n",
              "  height: 1rem;\n",
              "  width: 1rem;\n",
              "  text-decoration: none;\n",
              "  /* unfitted */\n",
              "  color: var(--sklearn-color-unfitted-level-1);\n",
              "  border: var(--sklearn-color-unfitted-level-1) 1pt solid;\n",
              "}\n",
              "\n",
              "#sk-container-id-1 a.estimator_doc_link.fitted {\n",
              "  /* fitted */\n",
              "  border: var(--sklearn-color-fitted-level-1) 1pt solid;\n",
              "  color: var(--sklearn-color-fitted-level-1);\n",
              "}\n",
              "\n",
              "/* On hover */\n",
              "#sk-container-id-1 a.estimator_doc_link:hover {\n",
              "  /* unfitted */\n",
              "  background-color: var(--sklearn-color-unfitted-level-3);\n",
              "  color: var(--sklearn-color-background);\n",
              "  text-decoration: none;\n",
              "}\n",
              "\n",
              "#sk-container-id-1 a.estimator_doc_link.fitted:hover {\n",
              "  /* fitted */\n",
              "  background-color: var(--sklearn-color-fitted-level-3);\n",
              "}\n",
              "</style><div id=\"sk-container-id-1\" class=\"sk-top-container\"><div class=\"sk-text-repr-fallback\"><pre>Pipeline(steps=[(&#x27;tfidf&#x27;,\n",
              "                 TfidfVectorizer(max_features=5000, stop_words=&#x27;english&#x27;)),\n",
              "                (&#x27;logreg&#x27;, LogisticRegression(max_iter=1000))])</pre><b>In a Jupyter environment, please rerun this cell to show the HTML representation or trust the notebook. <br />On GitHub, the HTML representation is unable to render, please try loading this page with nbviewer.org.</b></div><div class=\"sk-container\" hidden><div class=\"sk-item sk-dashed-wrapped\"><div class=\"sk-label-container\"><div class=\"sk-label fitted sk-toggleable\"><input class=\"sk-toggleable__control sk-hidden--visually\" id=\"sk-estimator-id-1\" type=\"checkbox\" ><label for=\"sk-estimator-id-1\" class=\"sk-toggleable__label fitted sk-toggleable__label-arrow\"><div><div>Pipeline</div></div><div><a class=\"sk-estimator-doc-link fitted\" rel=\"noreferrer\" target=\"_blank\" href=\"https://scikit-learn.org/1.6/modules/generated/sklearn.pipeline.Pipeline.html\">?<span>Documentation for Pipeline</span></a><span class=\"sk-estimator-doc-link fitted\">i<span>Fitted</span></span></div></label><div class=\"sk-toggleable__content fitted\"><pre>Pipeline(steps=[(&#x27;tfidf&#x27;,\n",
              "                 TfidfVectorizer(max_features=5000, stop_words=&#x27;english&#x27;)),\n",
              "                (&#x27;logreg&#x27;, LogisticRegression(max_iter=1000))])</pre></div> </div></div><div class=\"sk-serial\"><div class=\"sk-item\"><div class=\"sk-estimator fitted sk-toggleable\"><input class=\"sk-toggleable__control sk-hidden--visually\" id=\"sk-estimator-id-2\" type=\"checkbox\" ><label for=\"sk-estimator-id-2\" class=\"sk-toggleable__label fitted sk-toggleable__label-arrow\"><div><div>TfidfVectorizer</div></div><div><a class=\"sk-estimator-doc-link fitted\" rel=\"noreferrer\" target=\"_blank\" href=\"https://scikit-learn.org/1.6/modules/generated/sklearn.feature_extraction.text.TfidfVectorizer.html\">?<span>Documentation for TfidfVectorizer</span></a></div></label><div class=\"sk-toggleable__content fitted\"><pre>TfidfVectorizer(max_features=5000, stop_words=&#x27;english&#x27;)</pre></div> </div></div><div class=\"sk-item\"><div class=\"sk-estimator fitted sk-toggleable\"><input class=\"sk-toggleable__control sk-hidden--visually\" id=\"sk-estimator-id-3\" type=\"checkbox\" ><label for=\"sk-estimator-id-3\" class=\"sk-toggleable__label fitted sk-toggleable__label-arrow\"><div><div>LogisticRegression</div></div><div><a class=\"sk-estimator-doc-link fitted\" rel=\"noreferrer\" target=\"_blank\" href=\"https://scikit-learn.org/1.6/modules/generated/sklearn.linear_model.LogisticRegression.html\">?<span>Documentation for LogisticRegression</span></a></div></label><div class=\"sk-toggleable__content fitted\"><pre>LogisticRegression(max_iter=1000)</pre></div> </div></div></div></div></div></div>"
            ]
          },
          "metadata": {},
          "execution_count": 5
        }
      ]
    },
    {
      "cell_type": "markdown",
      "source": [
        "**Train Pipeline:** `logreg_pipeline.fit(X_train, y_train)` trains the entire pipeline on the training data. This means the `TfidfVectorizer` learns the vocabulary and TF-IDF weights, and the `LogisticRegression` model learns to classify based on these features."
      ],
      "metadata": {
        "id": "c3j3o9F72pim"
      }
    },
    {
      "cell_type": "markdown",
      "source": [
        "## Prediction"
      ],
      "metadata": {
        "id": "y-3sz48j5nR-"
      }
    },
    {
      "cell_type": "code",
      "source": [
        "# 5. Make Predictions\n",
        "y_pred_logreg_pipeline = logreg_pipeline.predict(X_test)"
      ],
      "metadata": {
        "id": "XJYB_Cka1-du"
      },
      "execution_count": null,
      "outputs": []
    },
    {
      "cell_type": "markdown",
      "source": [
        "**Make Predictions:** Using the trained pipeline to make predictions on the test set.  \n",
        "\n",
        "> The pipeline automatically preprocesses the test data using the learned `TfidfVectorizer` and then feeds it to the trained `LogisticRegression` model."
      ],
      "metadata": {
        "id": "yBiyd-b42tME"
      }
    },
    {
      "cell_type": "markdown",
      "source": [
        "## Performance evaluation"
      ],
      "metadata": {
        "id": "hdp45iYK5pX1"
      }
    },
    {
      "cell_type": "code",
      "source": [
        "# 6. Evaluate Performance\n",
        "print(\"Logistic Regression Pipeline Classification Report:\")\n",
        "print(classification_report(y_test, y_pred_logreg_pipeline, target_names=target_names))"
      ],
      "metadata": {
        "colab": {
          "base_uri": "https://localhost:8080/"
        },
        "id": "jOVtDxUH2Akl",
        "outputId": "d892d258-f39d-4210-a31b-4457747611d2"
      },
      "execution_count": null,
      "outputs": [
        {
          "output_type": "stream",
          "name": "stdout",
          "text": [
            "Logistic Regression Pipeline Classification Report:\n",
            "                        precision    recall  f1-score   support\n",
            "\n",
            "           alt.atheism       0.99      0.94      0.96       235\n",
            "soc.religion.christian       0.96      0.99      0.97       304\n",
            "\n",
            "              accuracy                           0.97       539\n",
            "             macro avg       0.97      0.97      0.97       539\n",
            "          weighted avg       0.97      0.97      0.97       539\n",
            "\n"
          ]
        }
      ]
    },
    {
      "cell_type": "markdown",
      "source": [
        "**Evaluate Performance:** `classification_report` gives us key metrics like precision, recall, F1-score, and accuracy to evaluate how well our model is performing."
      ],
      "metadata": {
        "id": "vTovNVYz2VYQ"
      }
    },
    {
      "cell_type": "markdown",
      "source": [
        "## Model inspection"
      ],
      "metadata": {
        "id": "EbbjhLpD5shM"
      }
    },
    {
      "cell_type": "code",
      "source": [
        "# 5. Model Inspection - Logistic Regression Feature Coefficients\n",
        "feature_names = logreg_pipeline.named_steps['tfidf'].get_feature_names_out() # Get feature names from TF-IDF vectorizer\n",
        "logreg_coefficients = logreg_pipeline.named_steps['logreg'].coef_[0] # Get coefficients from Logistic Regression model\n",
        "\n",
        "# Sort coefficients and feature names by absolute coefficient value\n",
        "feature_importance = sorted(zip(feature_names, logreg_coefficients), key=lambda x: abs(x[1]), reverse=True)\n",
        "\n",
        "print(\"\\nTop 20 Features (Words) for Logistic Regression (Sorted by Importance):\")\n",
        "for feature, coef in feature_importance[:20]: # Show top 20 features\n",
        "    print(f\"{feature}: {feature}: {coef:.2f}\")"
      ],
      "metadata": {
        "colab": {
          "base_uri": "https://localhost:8080/"
        },
        "id": "1oBs3QwQ3DO2",
        "outputId": "b7240641-963d-41a3-fd40-1c277b161c7c"
      },
      "execution_count": null,
      "outputs": [
        {
          "output_type": "stream",
          "name": "stdout",
          "text": [
            "\n",
            "Top 20 Features (Words) for Logistic Regression (Sorted by Importance):\n",
            "nntp: nntp: -2.20\n",
            "host: host: -2.17\n",
            "posting: posting: -2.16\n",
            "keith: keith: -2.12\n",
            "rutgers: rutgers: 2.10\n",
            "christians: christians: 1.94\n",
            "church: church: 1.88\n",
            "atheism: atheism: -1.85\n",
            "christ: christ: 1.74\n",
            "athos: athos: 1.65\n",
            "sin: sin: 1.64\n",
            "edu: edu: -1.53\n",
            "mathew: mathew: -1.52\n",
            "1993: 1993: 1.50\n",
            "atheists: atheists: -1.46\n",
            "morality: morality: -1.38\n",
            "christian: christian: 1.37\n",
            "sandvik: sandvik: -1.32\n",
            "caltech: caltech: -1.28\n",
            "cs: cs: -1.23\n"
          ]
        }
      ]
    },
    {
      "cell_type": "markdown",
      "source": [
        "*   **`feature_names = logreg_pipeline.named_steps['tfidf'].get_feature_names_out()`**:  This line gets the **vocabulary** (list of words) learned by the `TfidfVectorizer` in our pipeline.  `logreg_pipeline.named_steps['tfidf']` accesses the 'tfidf' step of the pipeline, and `.get_feature_names_out()` gets the feature names.\n",
        "*   **`logreg_coefficients = logreg_pipeline.named_steps['logreg'].coef_[0]`**: This gets the **coefficients** learned by the `LogisticRegression` model.  `logreg_pipeline.named_steps['logreg']` accesses the 'logreg' step, and `.coef_[0]` extracts the coefficients for the first class (in binary classification).\n",
        "\n",
        "**What are Feature Coefficients in Logistic Regression?**\n",
        "\n",
        "*   In Logistic Regression, each word (feature) gets a **coefficient**.\n",
        "*   **The magnitude (absolute value) of the coefficient indicates how important that word is for the classification.** Larger magnitude means more important.\n",
        "*   **The sign (positive or negative) indicates the direction of the word's influence:**\n",
        "    *   **Positive coefficient:**  The word pushes the prediction towards **class 1** (in our case, 'soc.religion.christian').\n",
        "    *   **Negative coefficient:** The word pushes the prediction towards **class 0** ('alt.atheism').\n",
        "\n",
        "The code then **sorts the features by the absolute value of their coefficients** to find the most important words.  It prints the top 20 words and (optionally) visualizes the top 10 with a bar plot.\n",
        "\n"
      ],
      "metadata": {
        "id": "gMLRkVAv3JI7"
      }
    },
    {
      "cell_type": "code",
      "source": [
        "# (Optional) Visualization - Bar plot of top features\n",
        "import matplotlib.pyplot as plt\n",
        "\n",
        "top_n = 10 # Visualize top 10 features\n",
        "top_feature_names = [f[0] for f in feature_importance[:top_n]]\n",
        "top_coefficients = [f[1] for f in feature_importance[:top_n]]\n",
        "\n",
        "plt.figure(figsize=(10, 6))\n",
        "plt.barh(top_feature_names[::-1], top_coefficients[::-1])\n",
        "plt.xlabel(\"Coefficient Value\")\n",
        "plt.ylabel(\"Feature (Word)\")\n",
        "plt.title(\"Top Feature Coefficients for Logistic Regression\")\n",
        "plt.gca().invert_yaxis() # Invert y-axis for better readability\n",
        "plt.show()"
      ],
      "metadata": {
        "colab": {
          "base_uri": "https://localhost:8080/",
          "height": 564
        },
        "id": "_IQwv4Ss3HdP",
        "outputId": "a9a2154f-571b-44e3-ccf3-148dcf692bbd"
      },
      "execution_count": null,
      "outputs": [
        {
          "output_type": "display_data",
          "data": {
            "text/plain": [
              "<Figure size 1000x600 with 1 Axes>"
            ],
            "image/png": "[encoded data removed]"
          },
          "metadata": {}
        }
      ]
    },
    {
      "cell_type": "markdown",
      "source": [
        "Run the code and examine the \"Top 20 Features\" output and the bar plot. Do the top words make sense for distinguishing between 'alt.atheism' and 'soc.religion.christian' articles?"
      ],
      "metadata": {
        "id": "qkQLsUPV3XWB"
      }
    },
    {
      "cell_type": "markdown",
      "source": [
        "## Hyperparameter Tuning and GridSearchCV\n",
        "\n",
        "So far, we've used models with their **default hyperparameter settings**.  But default settings are rarely optimal for a specific task. **Hyperparameter tuning** is the process of finding the best hyperparameter values for your model to maximize its performance.\n",
        "\n",
        "**What are Hyperparameters?**\n",
        "\n",
        "*   Hyperparameters are settings of a machine learning model that are **not learned from the data** during training. They are set *before* training.\n",
        "*   Examples of hyperparameters we might tune:\n",
        "    *   In `TfidfVectorizer`: `ngram_range`, `max_df`, `max_features`\n",
        "    *   In `LogisticRegression`: `C`, `penalty`, `solver`\n",
        "\n",
        "**Why Tune Hyperparameters?**\n",
        "\n",
        "*   To **improve model performance** (accuracy, F1-score, etc.) on your specific task and dataset.\n",
        "*   Default hyperparameters are general-purpose and might not be the best for your particular problem.\n",
        "\n",
        "**GridSearchCV for Hyperparameter Tuning**\n",
        "\n",
        "We'll use **GridSearchCV** from scikit-learn to automate the hyperparameter tuning process.  GridSearchCV does the following:\n",
        "\n",
        "1.  You define a **grid of hyperparameters** you want to try.\n",
        "2.  GridSearchCV tries **every possible combination** of hyperparameters from the grid.\n",
        "3.  For each combination, it performs **cross-validation** to estimate the model's performance.\n",
        "4.  Finally, it selects the hyperparameter combination that gives the **best performance** based on the chosen evaluation metric (e.g., F1-score).\n",
        "\n",
        "Let's see how to use GridSearchCV with our Logistic Regression pipeline!"
      ],
      "metadata": {
        "id": "L90ghLZB4Lms"
      }
    },
    {
      "cell_type": "code",
      "source": [
        "from sklearn.model_selection import GridSearchCV\n",
        "\n",
        "# 3. Define Hyperparameter Grid for GridSearchCV\n",
        "param_grid_logreg = {\n",
        "    'tfidf__ngram_range': [(1, 1), (1, 2)], # Try unigrams and bigrams\n",
        "    'tfidf__max_df': [0.9, 1.0], # Try different max_df values for TF-IDF\n",
        "    'logreg__C': [0.1, 1, 10],   # Try different C values for Logistic Regression\n",
        "    'logreg__penalty': ['l1', 'l2'], # Try L1 and L2 penalties\n",
        "    'logreg__solver': ['liblinear'] # Solver compatible with L1 penalty\n",
        "}\n",
        "\n",
        "# 4. Set up GridSearchCV\n",
        "grid_search_logreg = GridSearchCV(logreg_pipeline, param_grid_logreg, cv=5, scoring='f1_macro', n_jobs=-1) # 5-fold CV, optimize F1-score, use all CPU cores\n",
        "\n",
        "# 5. Run GridSearchCV (Fit on training data - this will take longer)\n",
        "grid_search_logreg.fit(X_train, y_train) # Fit GridSearchCV - this performs cross-validation for each parameter combination\n",
        "\n",
        "# 6. Get Best Model and Best Parameters from GridSearchCV\n",
        "best_logreg_pipeline = grid_search_logreg.best_estimator_ # Best pipeline found by GridSearchCV\n",
        "best_params_logreg = grid_search_logreg.best_params_ # Best parameter combination\n",
        "\n",
        "print(\"Best Logistic Regression Pipeline Parameters from GridSearchCV:\")\n",
        "print(best_params_logreg)\n",
        "\n",
        "# 7. Evaluate Best Model on Test Set\n",
        "y_pred_best_logreg = best_logreg_pipeline.predict(X_test)\n",
        "print(\"\\nClassification Report for Best Logistic Regression Pipeline (on Test Set):\")\n",
        "print(classification_report(y_test, y_pred_best_logreg, target_names=target_names))"
      ],
      "metadata": {
        "colab": {
          "base_uri": "https://localhost:8080/"
        },
        "id": "e9WTwOdq3cKh",
        "outputId": "a87a0b7b-daba-44e7-a24f-d15d1ac88f93"
      },
      "execution_count": null,
      "outputs": [
        {
          "output_type": "stream",
          "name": "stdout",
          "text": [
            "Best Logistic Regression Pipeline Parameters from GridSearchCV:\n",
            "{'logreg__C': 10, 'logreg__penalty': 'l2', 'logreg__solver': 'liblinear', 'tfidf__max_df': 1.0, 'tfidf__ngram_range': (1, 2)}\n",
            "\n",
            "Classification Report for Best Logistic Regression Pipeline (on Test Set):\n",
            "                        precision    recall  f1-score   support\n",
            "\n",
            "           alt.atheism       0.99      0.94      0.97       235\n",
            "soc.religion.christian       0.96      0.99      0.98       304\n",
            "\n",
            "              accuracy                           0.97       539\n",
            "             macro avg       0.97      0.97      0.97       539\n",
            "          weighted avg       0.97      0.97      0.97       539\n",
            "\n"
          ]
        }
      ]
    },
    {
      "cell_type": "markdown",
      "source": [
        "Let's break down the GridSearchCV code for Logistic Regression:\n",
        "\n",
        "*   **`from sklearn.model_selection import GridSearchCV`**: We import `GridSearchCV`.\n",
        "*   **Step 3: Define Hyperparameter Grid:**\n",
        "    *   `param_grid_logreg` is a dictionary that defines the **hyperparameter grid**.\n",
        "    *   **Keys** of the dictionary are the **parameter names** in the pipeline steps.  Note the format: `step_name__parameter_name`.  For example, `tfidf__ngram_range` refers to the `ngram_range` parameter of the 'tfidf' step.\n",
        "    *   **Values** are **lists of hyperparameter values** to try for each parameter.\n",
        "    *   In this example, we are tuning:\n",
        "        *   `tfidf__ngram_range`:  Trying unigrams `(1, 1)` and bigrams `(1, 2)`.\n",
        "        *   `tfidf__max_df`: Trying `0.9` and `1.0` for TF-IDF.\n",
        "        *   `logreg__C`: Trying `0.1`, `1`, and `10` for Logistic Regression regularization.\n",
        "        *   `logreg__penalty`: Trying `l1` and `l2` penalties.\n",
        "        *   `logreg__solver`: Setting the solver to `'liblinear'` because it's compatible with the `l1` penalty.\n",
        "*   **Step 4: Set up GridSearchCV:**\n",
        "    *   `GridSearchCV(logreg_pipeline, param_grid_logreg, cv=5, scoring='f1_macro', n_jobs=-1)` creates the GridSearchCV object.\n",
        "        *   `logreg_pipeline`: The pipeline we want to tune.\n",
        "        *   `param_grid_logreg`: The hyperparameter grid.\n",
        "        *   `cv=5`:  Use **5-fold cross-validation**. This means for each hyperparameter combination, GridSearchCV will split the training data into 5 parts, train on 4 parts, and evaluate on the 1 held-out part, and repeat this 5 times to get a more robust performance estimate.\n",
        "        *   `scoring='f1_macro'`:  Use **macro-averaged F1-score** as the metric to optimize. GridSearchCV will try to find the hyperparameters that maximize this score.\n",
        "        *   `n_jobs=-1`: Use **all available CPU cores** to speed up the search.\n",
        "*   **Step 5: Run GridSearchCV:**\n",
        "    *   `grid_search_logreg.fit(X_train, y_train)`: **This is the computationally intensive step!** GridSearchCV will train and evaluate the pipeline for *every combination* of hyperparameters in `param_grid_logreg` using cross-validation. This can take a while, especially with a larger grid.\n",
        "*   **Step 6: Get Best Model and Parameters:**\n",
        "    *   `grid_search_logreg.best_estimator_`:  This gives you the **best pipeline** found by GridSearchCV – the pipeline that was trained with the hyperparameter combination that achieved the best cross-validation score.\n",
        "    *   `grid_search_logreg.best_params_`: This gives you the **dictionary of best hyperparameters** that GridSearchCV found.\n",
        "    *   We print the `best_params_logreg` to see the optimal settings.\n",
        "*   **Step 7: Evaluate Best Model:**\n",
        "    *   We evaluate `best_logreg_pipeline` on the **test set** to get a final estimate of the tuned model's performance on unseen data.\n",
        "\n",
        "Run the Logistic Regression GridSearchCV code.  It will take longer to run than the basic pipelines because it's doing cross-validation for multiple hyperparameter combinations.  Examine the \"Best Parameters\" and the \"Classification Report for Best Logistic Regression Pipeline\".  Did hyperparameter tuning improve the performance compared to the basic Logistic Regression pipeline?"
      ],
      "metadata": {
        "id": "J_Z1CcaB5EPe"
      }
    },
    {
      "cell_type": "markdown",
      "source": [
        "### Experimentation and Deeper Dive\n",
        "\n",
        "Now it's your turn to experiment and explore further! Try these:\n",
        "\n",
        "1.  **Dataset Variation with Inspection and Tuning:**\n",
        "    *   Change the `categories` in `fetch_20newsgroups` to other pairs of categories (e.g., `['comp.graphics', 'rec.graphics']`, `['talk.politics.mideast', 'talk.politics.misc']`).\n",
        "    *   For each category pair:\n",
        "        *   Run GridSearchCV for **Logistic Regression**.\n",
        "        *   Compare the **best performance** (F1-score) achieved by each model after tuning. Which model works better for different datasets?\n",
        "        *   Inspect the **top features** of the **best Logistic Regression** model (using the inspection code from earlier) for different datasets. Do the top features make sense for the topics? Do different datasets lead to different important words?\n",
        "\n",
        "2.  **Vectorization Hyperparameter Tuning:**\n",
        "    *   Modify `param_grid_logreg` to also tune `tfidf__max_features`.  For example, add ` 'tfidf__max_features': [1000, 5000, 10000]` to the parameter grids.\n",
        "    *   Does tuning `max_features` improve performance? What is the trade-off between `max_features` and training time?\n",
        "\n",
        "3.  **N-gram Range Tuning:**\n",
        "    *   Experiment with a wider range of `ngram_range` values in `param_grid_logreg`. For example, try `ngram_range` values like `[(1, 1), (1, 2), (2, 2), (1, 3)]`.\n",
        "    *   Does using trigrams (or only bigrams) improve performance for any of the models?\n",
        "\n",
        "4.  **Model-Specific Hyperparameter Tuning:**\n",
        "    *   Explore other hyperparameters for `LogisticRegression` (e.g., different `solver` values). You can look at the `scikit-learn` documentation for these models to see what other hyperparameters are available.\n",
        "\n",
        "Think about these questions as you experiment:\n",
        "\n",
        "*   Does hyperparameter tuning consistently improve model performance?\n",
        "*   Which hyperparameters seem to be most important to tune for text classification?\n",
        "*   Do the best hyperparameters vary depending on the dataset or the model?\n",
        "\n",
        "After your experiments, read the \"Deeper Dive\" section below to understand some important concepts related to model inspection and hyperparameter tuning."
      ],
      "metadata": {
        "id": "8uURyBKP6K1A"
      }
    },
    {
      "cell_type": "markdown",
      "source": [
        "### Deeper Dive - Model Inspection and Hyperparameter Tuning Concepts\n",
        "\n",
        "Let's discuss some important concepts related to model inspection and hyperparameter tuning:\n",
        "\n",
        "*   **Interpretability vs. Performance Trade-off:**\n",
        "    *   Often, there's a trade-off between **model interpretability** and **performance**.\n",
        "    *   Simpler models like **Logistic Regression** and **Naive Bayes** are generally more **interpretable**. You can easily inspect feature coefficients or probabilities to understand how they make decisions.\n",
        "    *   More complex models, especially after hyperparameter tuning (like tuned SVMs or Neural Networks, which we'll see later), might achieve **higher performance** but can be **less directly interpretable**. They can be more like \"black boxes.\"\n",
        "    *   The right balance between interpretability and performance depends on your specific application. If understanding *why* a model makes a decision is crucial (e.g., in some sensitive domains), you might prefer a more interpretable model, even if it's slightly less accurate.  If pure performance is the primary goal, you might choose a more complex, less interpretable model.\n",
        "\n",
        "*   **Importance of Cross-Validation in Hyperparameter Tuning:**\n",
        "    *   **GridSearchCV uses cross-validation** to estimate the performance of different hyperparameter settings. This is *essential* for reliable hyperparameter tuning.\n",
        "    *   **Why is cross-validation important?**  If we just tuned hyperparameters on the *training set* and then evaluated on the *test set*, we might overfit to the training data *during the tuning process itself*. We want to find hyperparameters that generalize well to *unseen data*.\n",
        "    *   Cross-validation gives us a more robust estimate of how well a model with a particular hyperparameter setting will perform on average on unseen data.\n",
        "\n",
        "*   **Computational Cost of Hyperparameter Tuning:**\n",
        "    *   Hyperparameter tuning with GridSearchCV can be **computationally expensive**.\n",
        "    *   GridSearchCV tries *every combination* of hyperparameters in your `param_grid`. For each combination, it performs cross-validation (e.g., 5-fold CV means training and evaluating the model 5 times).\n",
        "    *   As you increase the size of your hyperparameter grid (more parameters to tune, more values to try for each parameter), the training time for GridSearchCV increases significantly.\n",
        "    *   Be mindful of training time, especially with larger datasets and more complex models.  For very large hyperparameter spaces, consider using **RandomizedSearchCV**, which randomly samples hyperparameter combinations instead of trying all of them (we won't cover RandomizedSearchCV in detail in this lesson, but it's good to be aware of it)."
      ],
      "metadata": {
        "id": "7wnK6i_j6Rr3"
      }
    },
    {
      "cell_type": "markdown",
      "source": [
        "### Summary and Next Steps\n",
        "\n",
        "Excellent work! In this lesson, you've significantly leveled up your text classification skills. You learned how to:\n",
        "\n",
        "*   Build **pipelines** for Logistic Regression.\n",
        "*   **Inspect** Logistic Regression model to understand feature importance.\n",
        "*   Use **GridSearchCV** to perform **hyperparameter tuning** and improve model performance.\n",
        "\n",
        "**Key Takeaways:**\n",
        "\n",
        "*   Model inspection helps you understand *why* your models make predictions and gain insights from your text data.\n",
        "*   Hyperparameter tuning is crucial for optimizing model performance for your specific task.\n",
        "*   GridSearchCV automates the hyperparameter search process using cross-validation.\n",
        "*   There's often a trade-off between model interpretability and performance.\n",
        "*   Cross-validation is essential for reliable hyperparameter tuning and prevents overfitting during the tuning process.\n",
        "\n",
        "**Next Steps:**\n",
        "\n",
        "In the next lessons, we'll continue to expand our text classification toolkit! We'll explore:\n",
        "\n",
        "*   **Ensemble methods** like **Random Forest** to further improve performance.\n",
        "*   **Neural Networks** for text classification, starting with **Feedforward Neural Networks**.\n",
        "\n",
        "You're building a strong foundation in text classification! Keep experimenting and practicing!"
      ],
      "metadata": {
        "id": "oKfCnX5V-JS-"
      }
    },
    {
      "cell_type": "markdown",
      "source": [
        "### Key Takeaways for Lesson #3 (for students):\n",
        "\n",
        "*   **Pipelines** are essential for organizing text classification workflows in scikit-learn.\n",
        "*   **Logistic Regression** is an effective model for text classification.\n",
        "*   **Model inspection** techniques (feature coefficients, log-probabilities) help understand model behavior.\n",
        "*   **GridSearchCV** automates **hyperparameter tuning** to improve model performance.\n",
        "*   **Cross-validation** is crucial for reliable hyperparameter tuning.\n",
        "*   Experimentation is key to finding the best models and hyperparameters for your text classification tasks."
      ],
      "metadata": {
        "id": "YZpBsP6W-KTO"
      }
    },
    {
      "cell_type": "markdown",
      "source": [
        "### Resources for Lesson #3:\n",
        "\n",
        "*   **Scikit-learn documentation on `Pipeline`:** [https://scikit-learn.org/stable/modules/generated/sklearn.pipeline.Pipeline.html](https://scikit-learn.org/stable/modules/generated/sklearn.pipeline.Pipeline.html)\n",
        "*   **Scikit-learn documentation on `LogisticRegression`:** [https://scikit-learn.org/stable/modules/generated/sklearn.linear_model.LogisticRegression.html](https://scikit-learn.org/stable/modules/generated/sklearn.linear_model.LogisticRegression.html)\n",
        "*   **Scikit-learn documentation on `classification_report`:** [https://scikit-learn.org/stable/modules/generated/sklearn.metrics.classification_report.html](https://scikit-learn.org/stable/modules/generated/sklearn.metrics.classification_report.html)\n",
        "*   **Scikit-learn documentation on `GridSearchCV`:** [https://scikit-learn.org/stable/modules/generated/sklearn.model_selection.GridSearchCV.html](https://scikit-learn.org/stable/modules/generated/sklearn.model_selection.GridSearchCV.html)"
      ],
      "metadata": {
        "id": "oI6-aQW7-NOX"
      }
    },
    {
      "cell_type": "markdown",
      "source": [
        "### Additional Notes:\n",
        "\n",
        "*   **More Hyperparameters:**  The hyperparameter grids we used in GridSearchCV are just examples. You can (and should!) experiment with a wider range of hyperparameter values to potentially find even better settings.  Look at the scikit-learn documentation for each model and vectorizer to see all available hyperparameters.\n",
        "\n",
        "*   **Other Evaluation Metrics:** We used `f1_macro` as the scoring metric in GridSearchCV.  You can try other metrics as well (e.g., `accuracy`, `precision_macro`, `recall_macro`, `f1_weighted`) depending on what you want to optimize for in your specific task.\n",
        "\n",
        "*   **RandomizedSearchCV:** As mentioned in the \"Deeper Dive\" section, for very large hyperparameter grids, `RandomizedSearchCV` can be a more efficient alternative to `GridSearchCV`.  It samples hyperparameter combinations randomly, which can be faster than trying all combinations, especially when many hyperparameters are not very important.\n",
        "\n",
        "*   **Model Choice:** We covered Logistic Regression.  The \"best\" model depends on your data and task.  Experimentation and comparison are key!  In the next lessons, we'll add more models to your toolkit."
      ],
      "metadata": {
        "id": "hW4sJxob-RFn"
      }
    }
  ]
}