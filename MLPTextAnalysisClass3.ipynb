{
  "nbformat": 4,
  "nbformat_minor": 0,
  "metadata": {
    "colab": {
      "provenance": [],
      "authorship_tag": "ABX9TyPABXSdcDmkbj+WU/pIWpvF",
      "include_colab_link": true
    },
    "kernelspec": {
      "name": "python3",
      "display_name": "Python 3"
    },
    "language_info": {
      "name": "python"
    }
  },
  "cells": [
    {
      "cell_type": "markdown",
      "metadata": {
        "id": "view-in-github",
        "colab_type": "text"
      },
      "source": [
        "<a href=\"https://colab.research.google.com/github/tfindiamooc/mlp/blob/main/MLPTextAnalysisClass3.ipynb\" target=\"_parent\"><img src=\"https://colab.research.google.com/assets/colab-badge.svg\" alt=\"Open In Colab\"/></a>"
      ]
    },
    {
      "cell_type": "markdown",
      "source": [
        "## Lesson #3c: Text Classification with Random Forest - Ensemble Power!\n",
        "\n",
        "Welcome to another exciting lesson focused on **Random Forest** classifiers for text classification!  We've explored linear models (Logistic Regression) and probabilistic models (Naive Bayes). Now, let's dive into **ensemble methods** and discover the power of Random Forests.\n",
        "\n",
        "In this lesson, you will:\n",
        "\n",
        "*   Build **Random Forest pipelines** for text classification.\n",
        "*   Understand **what Random Forests are and how they work as ensemble methods**.\n",
        "*   Explore the **strengths of Random Forests** for text data.\n",
        "*   Experiment with **different vectorizers** with Random Forests.\n",
        "*   Learn how to **inspect** a Random Forest model using **feature importances**.\n",
        "*   Use **GridSearchCV** to **tune hyperparameters** of Random Forests.\n",
        "\n",
        "Let's begin by building a basic Random Forest pipeline and see how it performs!"
      ],
      "metadata": {
        "id": "1qwDC4OHDq19"
      }
    },
    {
      "cell_type": "code",
      "source": [
        "# Code Cell 1: Basic Random Forest Pipeline Code\n",
        "from sklearn.datasets import fetch_20newsgroups\n",
        "from sklearn.model_selection import train_test_split\n",
        "from sklearn.feature_extraction.text import TfidfVectorizer\n",
        "from sklearn.ensemble import RandomForestClassifier # Import RandomForestClassifier\n",
        "from sklearn.pipeline import Pipeline\n",
        "from sklearn.metrics import classification_report\n",
        "\n",
        "# 1. Load Dataset\n",
        "newsgroups = fetch_20newsgroups(subset='all', categories=['alt.atheism', 'soc.religion.christian'])\n",
        "X, y = newsgroups.data, newsgroups.target\n",
        "target_names = newsgroups.target_names\n",
        "\n",
        "# 2. Split Data\n",
        "X_train, X_test, y_train, y_test = train_test_split(X, y, test_size=0.3, random_state=42)\n",
        "\n",
        "# 3. Create Random Forest Pipeline\n",
        "rf_pipeline = Pipeline([\n",
        "    ('tfidf', TfidfVectorizer(stop_words='english', max_features=5000)),\n",
        "    ('rf', RandomForestClassifier(random_state=42)) # Step 2: RandomForestClassifier\n",
        "])\n",
        "\n",
        "# 4. Train Pipeline\n",
        "rf_pipeline.fit(X_train, y_train)\n",
        "\n",
        "# 5. Make Predictions\n",
        "y_pred_rf_pipeline = rf_pipeline.predict(X_test)\n",
        "\n",
        "# 6. Evaluate Performance\n",
        "print(\"Random Forest Pipeline Classification Report:\")\n",
        "print(classification_report(y_test, y_pred_rf_pipeline, target_names=target_names))"
      ],
      "metadata": {
        "colab": {
          "base_uri": "https://localhost:8080/"
        },
        "id": "003EnHB3D2vz",
        "outputId": "379ca961-f21e-4019-ecca-58c2733d3fa0"
      },
      "execution_count": null,
      "outputs": [
        {
          "output_type": "stream",
          "name": "stdout",
          "text": [
            "Random Forest Pipeline Classification Report:\n",
            "                        precision    recall  f1-score   support\n",
            "\n",
            "           alt.atheism       1.00      0.96      0.98       235\n",
            "soc.religion.christian       0.97      1.00      0.99       304\n",
            "\n",
            "              accuracy                           0.98       539\n",
            "             macro avg       0.99      0.98      0.98       539\n",
            "          weighted avg       0.98      0.98      0.98       539\n",
            "\n"
          ]
        }
      ]
    },
    {
      "cell_type": "markdown",
      "source": [
        "### Random Forest Pipeline - First Look\n",
        "\n",
        "This code sets up a basic Random Forest pipeline for text classification. Let's break down the key components:\n",
        "\n",
        "1.  **Dataset Loading and Splitting:**  We continue to use the 20 Newsgroups dataset and split it into training and testing sets.\n",
        "2.  **Pipeline Creation:**  We create a scikit-learn pipeline:\n",
        "    *   **`TfidfVectorizer`:**  For text vectorization using TF-IDF (we're using TF-IDF as a starting point, but we'll experiment with other vectorizers later).\n",
        "    *   **`RandomForestClassifier`:** This is the Random Forest classifier model.\n",
        "        *   `random_state=42`:  Setting `random_state` ensures reproducibility. Random Forests have randomness in their training, so setting this makes sure you get the same results each time you run the code.\n",
        "3.  **Pipeline Training:** We train the pipeline on the training data using `rf_pipeline.fit`.\n",
        "4.  **Prediction and Evaluation:** We make predictions on the test set and evaluate the performance using `classification_report`.\n",
        "\n",
        "Run this code to see the classification report for a basic Random Forest pipeline. How does its performance compare to Logistic Regression and Naive Bayes from the previous lessons (using their default settings)?\n",
        "\n",
        "Now, let's understand what Random Forests are and why they are powerful classifiers."
      ],
      "metadata": {
        "id": "942iQtqwD5eR"
      }
    },
    {
      "cell_type": "markdown",
      "source": [
        "### What is a Random Forest? - Ensemble of Trees\n",
        "\n",
        "Random Forest is a powerful **ensemble learning** method.  It's called a \"forest\" because it's made up of many \"decision trees\". Let's understand the key ideas behind Random Forests:\n",
        "\n",
        "*   **Decision Trees as Building Blocks:**\n",
        "    *   Imagine a single decision tree classifier. It makes decisions by asking a series of questions about the features (words in our case) to classify a document.\n",
        "    *   Decision trees can be prone to **overfitting**, especially if they are very deep (complex). They can learn the training data too well, including noise, and may not generalize well to unseen data.\n",
        "\n",
        "*   **Ensemble of Decision Trees:**  Random Forest overcomes the limitations of single decision trees by creating an **ensemble** (collection) of many decision trees.  Typically, a Random Forest can contain hundreds or thousands of trees.\n",
        "\n",
        "*   **Bagging (Bootstrap Aggregating):**\n",
        "    *   Random Forests use a technique called **bagging**.\n",
        "    *   **For each tree in the forest:**\n",
        "        *   A **random subset of the training data** is selected with replacement (bootstrapping). This means some data points might be selected multiple times, and some might not be selected at all for a particular tree.\n",
        "        *   A decision tree is trained on this random subset of data.\n",
        "    *   This **random sampling of data** for each tree helps to make the trees in the forest diverse.\n",
        "\n",
        "*   **Random Feature Subspace (Feature Randomness):**\n",
        "    *   In addition to bagging, Random Forests introduce more randomness through **feature subspace sampling**.\n",
        "    *   **When splitting a node in a decision tree:**\n",
        "        *   Instead of considering all features (all words) to find the best split, Random Forest only considers a **random subset of features**.\n",
        "        *   This further decorrelates the trees in the forest and reduces variance.\n",
        "\n",
        "*   **Majority Voting (for Classification):**\n",
        "    *   When making a prediction for a new document, **each tree in the Random Forest makes its own prediction**.\n",
        "    *   For classification, the Random Forest predicts the class that gets the **majority vote** from all the trees in the forest.\n",
        "\n",
        "**Why are Random Forests powerful?**\n",
        "\n",
        "*   **Reduced Overfitting:** By averaging predictions from many diverse trees, Random Forests significantly reduce overfitting compared to single decision trees.\n",
        "*   **Improved Generalization:** Ensemble methods like Random Forests often generalize better to unseen data and achieve higher accuracy than individual models.\n",
        "*   **Robust to Outliers:** Random Forests are generally more robust to outliers and noisy data.\n",
        "*   **Feature Importance:** Random Forests provide a way to estimate **feature importance**, which can help us understand which words are most important for classification (we'll explore this later in this lesson).\n",
        "\n",
        "Let's experiment with different vectorizers with Random Forests to see how they interact."
      ],
      "metadata": {
        "id": "NvjSCONSD-Vs"
      }
    },
    {
      "cell_type": "code",
      "source": [
        "# Code Cell 2: Random Forest with different vectorizers (CountVectorizer, TF-IDF)\n",
        "from sklearn.datasets import fetch_20newsgroups\n",
        "from sklearn.model_selection import train_test_split\n",
        "from sklearn.feature_extraction.text import CountVectorizer, TfidfVectorizer # Import CountVectorizer\n",
        "from sklearn.ensemble import RandomForestClassifier\n",
        "from sklearn.pipeline import Pipeline\n",
        "from sklearn.metrics import classification_report\n",
        "\n",
        "# 1. Load Dataset & Split Data (Same as before)\n",
        "newsgroups = fetch_20newsgroups(subset='all', categories=['alt.atheism', 'soc.religion.christian'])\n",
        "X, y = newsgroups.data, newsgroups.target\n",
        "target_names = newsgroups.target_names\n",
        "X_train, X_test, y_train, y_test = train_test_split(X, y, test_size=0.3, random_state=42)\n",
        "\n",
        "# 2. Pipelines with different vectorizers\n",
        "# Pipeline with CountVectorizer (BoW)\n",
        "rf_pipeline_bow = Pipeline([\n",
        "    ('bow', CountVectorizer(stop_words='english', max_features=5000)), # Using CountVectorizer\n",
        "    ('rf', RandomForestClassifier(random_state=42))\n",
        "])\n",
        "\n",
        "# Pipeline with TfidfVectorizer (TF-IDF) - (Same as before for comparison)\n",
        "rf_pipeline_tfidf = Pipeline([\n",
        "    ('tfidf', TfidfVectorizer(stop_words='english', max_features=5000)),\n",
        "    ('rf', RandomForestClassifier(random_state=42))\n",
        "])\n",
        "\n",
        "# 3. Train Pipelines\n",
        "rf_pipeline_bow.fit(X_train, y_train)\n",
        "rf_pipeline_tfidf.fit(X_train, y_train)\n",
        "\n",
        "# 4. Make Predictions\n",
        "y_pred_rf_bow = rf_pipeline_bow.predict(X_test)\n",
        "y_pred_rf_tfidf = rf_pipeline_tfidf.predict(X_test)\n",
        "\n",
        "# 5. Evaluate Performance - Compare BoW and TF-IDF\n",
        "print(\"Random Forest Pipeline with CountVectorizer (BoW) Classification Report:\")\n",
        "print(classification_report(y_test, y_pred_rf_bow, target_names=target_names))\n",
        "\n",
        "print(\"\\nRandom Forest Pipeline with TfidfVectorizer (TF-IDF) Classification Report:\")\n",
        "print(classification_report(y_test, y_pred_rf_tfidf, target_names=target_names))"
      ],
      "metadata": {
        "colab": {
          "base_uri": "https://localhost:8080/"
        },
        "id": "zBvNMLVXD71y",
        "outputId": "082dca13-a495-4689-fcb3-8a3d5088de31"
      },
      "execution_count": null,
      "outputs": [
        {
          "output_type": "stream",
          "name": "stdout",
          "text": [
            "Random Forest Pipeline with CountVectorizer (BoW) Classification Report:\n",
            "                        precision    recall  f1-score   support\n",
            "\n",
            "           alt.atheism       1.00      0.96      0.98       235\n",
            "soc.religion.christian       0.97      1.00      0.98       304\n",
            "\n",
            "              accuracy                           0.98       539\n",
            "             macro avg       0.98      0.98      0.98       539\n",
            "          weighted avg       0.98      0.98      0.98       539\n",
            "\n",
            "\n",
            "Random Forest Pipeline with TfidfVectorizer (TF-IDF) Classification Report:\n",
            "                        precision    recall  f1-score   support\n",
            "\n",
            "           alt.atheism       1.00      0.96      0.98       235\n",
            "soc.religion.christian       0.97      1.00      0.99       304\n",
            "\n",
            "              accuracy                           0.98       539\n",
            "             macro avg       0.99      0.98      0.98       539\n",
            "          weighted avg       0.98      0.98      0.98       539\n",
            "\n"
          ]
        }
      ]
    },
    {
      "cell_type": "markdown",
      "source": [
        "### Comparing Vectorizers with Random Forest\n",
        "\n",
        "In this code, we compare Random Forest performance with two different vectorizers:\n",
        "\n",
        "*   **`rf_pipeline_bow`**:  Uses `CountVectorizer` (Bag of Words) for text vectorization.\n",
        "*   **`rf_pipeline_tfidf`**: Uses `TfidfVectorizer` (TF-IDF) for text vectorization.\n",
        "\n",
        "Run the code and compare the classification reports.\n",
        "\n",
        "**Questions to consider:**\n",
        "\n",
        "*   Does using TF-IDF vectorization improve the performance of Random Forest compared to Bag of Words?\n",
        "*   Is the performance difference between BoW and TF-IDF with Random Forest as large as it was with Naive Bayes (or Logistic Regression in previous lessons)?\n",
        "*   How does the performance of Random Forest (with either vectorizer) compare to the best performance you achieved with Logistic Regression and Naive Bayes in the previous lessons?\n",
        "\n",
        "Random Forests are often less sensitive to the choice of vectorizer than some linear models.  Let's now explore how to inspect a Random Forest model to understand feature importance."
      ],
      "metadata": {
        "id": "oxxt51XjECu9"
      }
    },
    {
      "cell_type": "code",
      "source": [
        "# Code Cell 3: Random Forest Model Inspection (Feature Importances)\n",
        "from sklearn.datasets import fetch_20newsgroups\n",
        "from sklearn.model_selection import train_test_split\n",
        "from sklearn.feature_extraction.text import TfidfVectorizer\n",
        "from sklearn.ensemble import RandomForestClassifier\n",
        "from sklearn.pipeline import Pipeline\n",
        "from sklearn.metrics import classification_report\n",
        "import matplotlib.pyplot as plt\n",
        "import numpy as np\n",
        "\n",
        "# 1. Load Dataset & Split Data (Same as before)\n",
        "newsgroups = fetch_20newsgroups(subset='all', categories=['alt.atheism', 'soc.religion.christian'])\n",
        "X, y = newsgroups.data, newsgroups.target\n",
        "target_names = newsgroups.target_names\n",
        "X_train, X_test, y_train, y_test = train_test_split(X, y, test_size=0.3, random_state=42)\n",
        "\n",
        "# 2. Create Random Forest Pipeline (TF-IDF - for inspection)\n",
        "rf_pipeline_tfidf = Pipeline([\n",
        "    ('tfidf', TfidfVectorizer(stop_words='english', max_features=5000)),\n",
        "    ('rf', RandomForestClassifier(random_state=42))\n",
        "])\n",
        "\n",
        "# 3. Train Pipeline (Same as before)\n",
        "rf_pipeline_tfidf.fit(X_train, y_train)\n",
        "\n",
        "# 4. Make Predictions & Evaluate (Same as before)\n",
        "y_pred_rf_tfidf = rf_pipeline_tfidf.predict(X_test)\n",
        "print(\"Random Forest Pipeline with TF-IDF Classification Report:\")\n",
        "print(classification_report(y_test, y_pred_rf_tfidf, target_names=target_names))\n",
        "\n",
        "# 5. Model Inspection - Random Forest Feature Importances\n",
        "feature_names = rf_pipeline_tfidf.named_steps['tfidf'].get_feature_names_out() # Get feature names\n",
        "rf_importances = rf_pipeline_tfidf.named_steps['rf'].feature_importances_ # Get feature importances from trained Random Forest\n",
        "\n",
        "# Sort feature importances and feature names in descending order\n",
        "feature_importance = sorted(zip(feature_names, rf_importances), key=lambda x: x[1], reverse=True)\n",
        "\n",
        "print(\"\\nTop 20 Features (Words) for Random Forest (Sorted by Importance):\")\n",
        "for feature, importance in feature_importance[:20]: # Print top 20 features\n",
        "    print(f\"{feature}: {importance:.4f}\")\n",
        "\n",
        "# (Optional) Visualization - Bar plot of top features\n",
        "top_n = 10 # Visualize top 10 features\n",
        "top_feature_names = [f[0] for f in feature_importance[:top_n]]\n",
        "top_importances = [f[1] for f in feature_importance[:top_n]]\n",
        "\n",
        "plt.figure(figsize=(10, 6))\n",
        "plt.barh(top_feature_names[::-1], top_importances[::-1])\n",
        "plt.xlabel(\"Feature Importance\")\n",
        "plt.ylabel(\"Feature (Word)\")\n",
        "plt.title(\"Top Feature Importances for Random Forest\")\n",
        "plt.gca().invert_yaxis()\n",
        "plt.show()"
      ],
      "metadata": {
        "colab": {
          "base_uri": "https://localhost:8080/",
          "height": 1000
        },
        "id": "0DMMrqX2EE2R",
        "outputId": "93643d70-4be8-4c7e-ec4b-20dcb65cd4b0"
      },
      "execution_count": null,
      "outputs": [
        {
          "output_type": "stream",
          "name": "stdout",
          "text": [
            "Random Forest Pipeline with TF-IDF Classification Report:\n",
            "                        precision    recall  f1-score   support\n",
            "\n",
            "           alt.atheism       1.00      0.96      0.98       235\n",
            "soc.religion.christian       0.97      1.00      0.99       304\n",
            "\n",
            "              accuracy                           0.98       539\n",
            "             macro avg       0.99      0.98      0.98       539\n",
            "          weighted avg       0.98      0.98      0.98       539\n",
            "\n",
            "\n",
            "Top 20 Features (Words) for Random Forest (Sorted by Importance):\n",
            "nntp: 0.0331\n",
            "posting: 0.0292\n",
            "host: 0.0290\n",
            "rutgers: 0.0243\n",
            "athos: 0.0207\n",
            "1993: 0.0189\n",
            "christ: 0.0186\n",
            "keith: 0.0138\n",
            "article: 0.0128\n",
            "christians: 0.0127\n",
            "atheists: 0.0114\n",
            "church: 0.0108\n",
            "writes: 0.0104\n",
            "distribution: 0.0102\n",
            "edu: 0.0095\n",
            "atheism: 0.0077\n",
            "islamic: 0.0075\n",
            "sin: 0.0064\n",
            "clh: 0.0062\n",
            "morality: 0.0060\n"
          ]
        },
        {
          "output_type": "display_data",
          "data": {
            "text/plain": [
              "<Figure size 1000x600 with 1 Axes>"
            ],
            "image/png": "[encoded data removed]"
          },
          "metadata": {}
        }
      ]
    },
    {
      "cell_type": "markdown",
      "source": [
        "### Explanation of Random Forest Model Inspection - Feature Importances\n",
        "\n",
        "Let's focus on `Step 5: Model Inspection - Random Forest Feature Importances` in the code:\n",
        "\n",
        "* `feature_names = rf_pipeline_tfidf.named_steps['tfidf'].get_feature_names_out()`: Gets the vocabulary from the TfidfVectorizer.\n",
        "* `\n",
        "rf_importances = rf_pipeline_tfidf.named_steps['rf'].feature_importances_`: This is the key line! It extracts feature importances from the trained `RandomForestClassifier`.\n",
        "    * Feature Importances in Random Forest: Random Forests provide a measure of how important each feature (word) is for making predictions.\n",
        "    * Feature importance is calculated based on how much each feature reduces impurity (e.g., Gini impurity or entropy) when used for splitting nodes in the decision trees, averaged across all trees in the forest.\n",
        "    * Higher feature importance score means the feature is considered more important by the Random Forest model.\n",
        "\n",
        "The code then sorts the features by their importance scores in descending order and prints the top 20 words.  It also (optionally) creates a bar plot to visualize the top 10 feature importances.\n",
        "\n",
        "Run the code and examine the \"Top 20 Features\" output and the bar plot. Do the top words with high importance scores make sense for distinguishing between `alt.atheism` and `soc.religion.christian` articles?  How do these top features compare to the top features you saw for Logistic Regression and Naive Bayes in previous lessons?\n",
        "\n",
        "Now, let's move on to hyperparameter tuning for Random Forests using GridSearchCV!"
      ],
      "metadata": {
        "id": "0BPGvkofEHB4"
      }
    },
    {
      "cell_type": "code",
      "source": [
        "from sklearn.datasets import fetch_20newsgroups\n",
        "from sklearn.model_selection import train_test_split, GridSearchCV\n",
        "from sklearn.feature_extraction.text import TfidfVectorizer\n",
        "from sklearn.ensemble import RandomForestClassifier\n",
        "from sklearn.pipeline import Pipeline\n",
        "from sklearn.metrics import classification_report\n",
        "\n",
        "# 1. Load Dataset & Split Data (Same as before)\n",
        "newsgroups = fetch_20newsgroups(subset='all', categories=['alt.atheism', 'soc.religion.christian'])\n",
        "X, y = newsgroups.data, newsgroups.target\n",
        "target_names = newsgroups.target_names\n",
        "X_train, X_test, y_train, y_test = train_test_split(X, y, test_size=0.3, random_state=42)\n",
        "\n",
        "# 2. Create Random Forest Pipeline (TF-IDF)\n",
        "rf_pipeline_tfidf = Pipeline([\n",
        "    ('tfidf', TfidfVectorizer(stop_words='english', max_features=5000)),\n",
        "    ('rf', RandomForestClassifier(random_state=42))\n",
        "])\n",
        "\n",
        "# 3. Define Hyperparameter Grid for Random Forest GridSearchCV\n",
        "param_grid_rf = {\n",
        "    'tfidf__ngram_range': [(1, 1), (1, 2)], # Tune TF-IDF ngram range\n",
        "    'rf__n_estimators': [100, 200, 500], # Tune number of trees in the forest\n",
        "    'rf__max_depth': [None, 10, 20], # Tune maximum depth of trees\n",
        "    'rf__min_samples_split': [2, 5, 10], # Tune min samples to split a node\n",
        "    'rf__min_samples_leaf': [1, 2, 4] # Tune min samples in a leaf node\n",
        "}\n",
        "\n",
        "# 4. Set up GridSearchCV for Random Forest\n",
        "grid_search_rf = GridSearchCV(rf_pipeline_tfidf, param_grid_rf, cv=3, scoring='f1_macro', n_jobs=-1, verbose=1) # Reduced cv=3 for faster runtime, added verbose=1\n",
        "\n",
        "# 5. Run GridSearchCV for Random Forest (Fit on training data - longer)\n",
        "grid_search_rf.fit(X_train, y_train) # This will take longer\n",
        "\n",
        "# 6. Get Best Model and Best Parameters for Random Forest\n",
        "best_rf_pipeline = grid_search_rf.best_estimator_\n",
        "best_params_rf = grid_search_rf.best_params_\n",
        "\n",
        "print(\"Best Random Forest Pipeline Parameters from GridSearchCV:\")\n",
        "print(best_params_rf)\n",
        "\n",
        "# 7. Evaluate Best Random Forest Model on Test Set\n",
        "y_pred_best_rf = best_rf_pipeline.predict(X_test)\n",
        "print(\"\\nClassification Report for Best Random Forest Pipeline (on Test Set):\")\n",
        "print(classification_report(y_test, y_pred_best_rf, target_names=target_names))"
      ],
      "metadata": {
        "colab": {
          "base_uri": "https://localhost:8080/"
        },
        "id": "OnxaH4hOEPKi",
        "outputId": "2bcf8e11-662e-4b72-ca35-94c9245eaf7a"
      },
      "execution_count": null,
      "outputs": [
        {
          "output_type": "stream",
          "name": "stdout",
          "text": [
            "Fitting 3 folds for each of 162 candidates, totalling 486 fits\n",
            "Best Random Forest Pipeline Parameters from GridSearchCV:\n",
            "{'rf__max_depth': None, 'rf__min_samples_leaf': 1, 'rf__min_samples_split': 5, 'rf__n_estimators': 500, 'tfidf__ngram_range': (1, 1)}\n",
            "\n",
            "Classification Report for Best Random Forest Pipeline (on Test Set):\n",
            "                        precision    recall  f1-score   support\n",
            "\n",
            "           alt.atheism       1.00      0.94      0.97       235\n",
            "soc.religion.christian       0.96      1.00      0.98       304\n",
            "\n",
            "              accuracy                           0.98       539\n",
            "             macro avg       0.98      0.97      0.98       539\n",
            "          weighted avg       0.98      0.98      0.98       539\n",
            "\n"
          ]
        }
      ]
    },
    {
      "cell_type": "markdown",
      "source": [
        "### Explanation of Random Forest Hyperparameter Tuning with GridSearchCV\n",
        "\n",
        "Let's understand the GridSearchCV code for Random Forest:\n",
        "\n",
        "*   **Step 3: Define Hyperparameter Grid for Random Forest GridSearchCV:**\n",
        "    *   `param_grid_rf` defines the hyperparameter grid for the Random Forest pipeline.\n",
        "    *   We are tuning:\n",
        "        *   `tfidf__ngram_range`: Trying unigrams and bigrams for TF-IDF.\n",
        "        *   `rf__n_estimators`:  **`n_estimators`**: Number of trees in the Random Forest.  More trees generally can improve performance, but also increase training time. We're trying `[100, 200, 500]`.\n",
        "        *   `rf__max_depth`: **`max_depth`**: Maximum depth of each decision tree.  Limits tree depth to prevent overfitting. `None` means no limit. We're trying `[None, 10, 20]`.\n",
        "        *   `rf__min_samples_split`: **`min_samples_split`**: Minimum number of samples required to split an internal node in a tree.  Controls tree complexity.  We're trying `[2, 5, 10]`.\n",
        "        *   `rf__min_samples_leaf`: **`min_samples_leaf`**: Minimum number of samples required to be at a leaf node.  Further controls tree complexity and prevents overfitting. We're trying `[1, 2, 4]`.\n",
        "\n",
        "*   **Step 4: Set up GridSearchCV for Random Forest:** We create `grid_search_rf` using `rf_pipeline_tfidf` and `param_grid_rf`.\n",
        "    *   `cv=3`: We've reduced cross-validation folds to `cv=3` to speed up the GridSearchCV process, as Random Forest can be slower to train than simpler models.\n",
        "    *   `verbose=1`: Added `verbose=1` to see some progress output during GridSearchCV, as it can take a while to run.\n",
        "\n",
        "The rest of the GridSearchCV process is the same: explore the hyperparameter grid, perform cross-validation, find best parameters, evaluate the best model.\n",
        "\n",
        "Run the Random Forest GridSearchCV code. It will take longer than previous GridSearchCV examples due to the complexity of Random Forests and the larger hyperparameter grid. Examine the \"Best Parameters\" and the \"Classification Report for Best Random Forest Pipeline\". Did hyperparameter tuning improve the performance of the Random Forest classifier? What are the best hyperparameters found?\n",
        "\n",
        "Now, let's move on to experimentation prompts to further explore Random Forests."
      ],
      "metadata": {
        "id": "0zs6PzxnESi_"
      }
    },
    {
      "cell_type": "markdown",
      "source": [
        "### Experimentation Prompts - Random Forest Exploration\n",
        "\n",
        "Let's dive deeper into experimenting with Random Forests! Try these:\n",
        "\n",
        "1.  **Datasets and Random Forest Performance:**\n",
        "    *   Change the `categories` in `fetch_20newsgroups` to different pairs of categories.\n",
        "    *   For each dataset:\n",
        "        *   Run GridSearchCV for the Random Forest pipeline (with `param_grid_rf`).\n",
        "        *   Compare the best performance of Random Forest on different datasets.\n",
        "        *   How does Random Forest performance vary across different topic pairs? Is it consistently good, or does it excel on some datasets more than others?\n",
        "\n",
        "2.  **Hyperparameter Tuning - Deeper Grid:**\n",
        "    *   Expand the hyperparameter grid `param_grid_rf` to include a wider range of values for `n_estimators`, `max_depth`, `min_samples_split`, and `min_samples_leaf`.  For example:\n",
        "        *   `'rf__n_estimators': [50, 100, 200, 500, 800]`\n",
        "        *   `'rf__max_depth': [None, 5, 10, 15, 20, 30]`\n",
        "        *   `'rf__min_samples_split': [2, 3, 4, 5, 10]`\n",
        "        *   `'rf__min_samples_leaf': [1, 2, 3, 4]`\n",
        "    *   **Be aware:** A larger grid will significantly increase the GridSearchCV runtime! You might want to start with a smaller grid and gradually expand it if needed.\n",
        "    *   Does a wider hyperparameter search lead to further performance improvements for Random Forest?\n",
        "\n",
        "3.  **Feature Importance Analysis - Different Datasets:**\n",
        "    *   Run the Random Forest model inspection code (feature importance extraction) for different datasets (different `categories` in `fetch_20newsgroups`).\n",
        "    *   Do the top important words change significantly when you change the topic categories? Are some words consistently important across different datasets?\n",
        "\n",
        "4.  **Vectorizers and Random Forest - N-grams and Parameters:**\n",
        "    *   Experiment more systematically with different vectorizers and vectorizer parameters in combination with Random Forest.\n",
        "    *   Tune `ngram_range`, `max_df`, `min_df`, `max_features` of `TfidfVectorizer` (or `CountVectorizer`) along with Random Forest hyperparameters using GridSearchCV.  Add these vectorizer parameters to your `param_grid_rf`.\n",
        "    *   What combination of vectorizer and Random Forest hyperparameters gives the best performance?\n",
        "\n",
        "Think about these questions as you experiment:\n",
        "\n",
        "*   Is Random Forest performance highly sensitive to hyperparameter tuning? Which hyperparameters are most important to tune?\n",
        "*   How does the choice of vectorizer interact with Random Forest performance?\n",
        "*   When is Random Forest a good choice for text classification compared to linear models (Logistic Regression, SVM) or Naive Bayes? What are the trade-offs?\n",
        "\n",
        "After your experiments, read the summary and key takeaways for this lesson."
      ],
      "metadata": {
        "id": "oPn7AgOSEXcf"
      }
    },
    {
      "cell_type": "code",
      "source": [],
      "metadata": {
        "id": "aSkkGKjWEUWR"
      },
      "execution_count": null,
      "outputs": []
    },
    {
      "cell_type": "markdown",
      "source": [
        "### Deeper Dive - Random Forest Concepts\n",
        "\n",
        "Let's discuss some deeper concepts related to Random Forests:\n",
        "\n",
        "*   **Ensemble Learning - Wisdom of the Crowd:**\n",
        "    *   Random Forest is a prime example of **ensemble learning**. Ensemble methods combine multiple \"weak\" learners (in this case, decision trees) to create a \"stronger\" learner.\n",
        "    *   Think of it as the \"wisdom of the crowd\".  Each individual decision tree might be somewhat noisy or make errors, but by averaging their predictions (majority voting), the Random Forest as a whole becomes more accurate and robust.\n",
        "\n",
        "*   **Bias-Variance Tradeoff:**\n",
        "    *   **Decision Trees** can have **low bias** (they can fit complex relationships in the training data) but **high variance** (they are sensitive to small changes in the training data and can overfit).\n",
        "    *   **Random Forests reduce variance** by averaging predictions from multiple trees trained on different subsets of data and feature subspaces. This leads to better generalization.\n",
        "    *   By tuning hyperparameters like `max_depth`, `min_samples_split`, and `min_samples_leaf`, you are further controlling the bias-variance tradeoff in Random Forests.\n",
        "\n",
        "*   **Interpretability of Random Forests:**\n",
        "    *   **Individual Decision Trees** are quite interpretable. You can trace the decision path from the root to a leaf node to understand why a tree made a particular prediction.\n",
        "    *   **Random Forests (ensembles of trees) are less interpretable than single trees or linear models like Logistic Regression.** It's harder to visualize hundreds or thousands of trees.\n",
        "    *   **Feature Importance** is a way to get some interpretability from Random Forests. It tells you which features are considered important by the model, but it doesn't give you the same level of detailed understanding as inspecting coefficients in Logistic Regression or probabilities in Naive Bayes.\n",
        "\n",
        "*   **Computational Cost:**\n",
        "    *   **Training Random Forests can be more computationally expensive** than training simpler models like Logistic Regression or Naive Bayes, especially if you have a large number of trees (`n_estimators`) or deep trees.\n",
        "    *   **Prediction time** for Random Forests is also typically longer than for simpler models, as you need to run the input through all trees in the forest.\n",
        "    *   However, Random Forests are often still reasonably efficient for many text classification tasks, and the performance gains can be worth the extra computational cost."
      ],
      "metadata": {
        "id": "xGzNemdMEYlC"
      }
    },
    {
      "cell_type": "markdown",
      "source": [
        "### Summary and Next Steps - Random Forest Power\n",
        "\n",
        "Fantastic work exploring Random Forests! In this lesson, you've:\n",
        "\n",
        "*   Built and understood **Random Forest pipelines** for text classification.\n",
        "*   Learned about **ensemble learning** and how Random Forests combine decision trees.\n",
        "*   Explored the **strengths of Random Forests** in reducing overfitting and improving generalization.\n",
        "*   Experimented with **vectorizers** and **hyperparameter tuning** for Random Forests.\n",
        "*   Inspected Random Forest models using **feature importances**.\n",
        "\n",
        "**Key Takeaways for Random Forests:**\n",
        "\n",
        "*   Random Forests are powerful **ensemble methods** that often achieve high accuracy in text classification.\n",
        "*   They **reduce overfitting** compared to single decision trees through bagging and random feature subspaces.\n",
        "*   **Feature importance** provides some interpretability into Random Forest models.\n",
        "*   **Hyperparameter tuning** (especially `n_estimators`, `max_depth`, and tree complexity parameters) is important to optimize Random Forest performance.\n",
        "*   Random Forests are often a good choice when you need **robust and accurate text classifiers** and are willing to trade off some interpretability for performance.\n",
        "\n",
        "**Next Steps:**\n",
        "\n",
        "In the upcoming lessons, we'll continue to expand our text classification toolkit and move towards more advanced techniques:\n",
        "\n",
        "*   **Gradient Boosting Machines (GBM)** - another powerful ensemble method.\n",
        "*   **Neural Networks** for text classification - starting with Feedforward Networks and then Recurrent Neural Networks (RNNs).\n",
        "*   Even more advanced text representations like **word embeddings** (Word2Vec, GloVe, FastText) and **pre-trained language models** (like BERT).\n",
        "\n",
        "You are building a strong and versatile skill set in text classification! Keep experimenting and pushing your understanding further!"
      ],
      "metadata": {
        "id": "HHjN_HRREdRf"
      }
    },
    {
      "cell_type": "markdown",
      "source": [
        "### Key Takeaways for Lesson #3c (Random Forest Specific):\n",
        "\n",
        "*   **Random Forest is an ensemble of decision trees, using bagging and random feature subspaces.**\n",
        "*   **Random Forests reduce overfitting and improve generalization compared to single decision trees.**\n",
        "*   **Feature importance** is a useful tool for inspecting Random Forest models.\n",
        "*   **Hyperparameters like `n_estimators`, `max_depth`, and tree complexity parameters are important to tune.**\n",
        "*   **Random Forests are robust, accurate, and often a good choice for text classification when performance is prioritized.**\n",
        "*   Experiment with different vectorizers and hyperparameters to optimize Random Forest for your task."
      ],
      "metadata": {
        "id": "iLszU3FLEdOC"
      }
    },
    {
      "cell_type": "markdown",
      "source": [
        "### Resources for Lesson #3c (Random Forest Specific):\n",
        "\n",
        "*   **Scikit-learn documentation on `RandomForestClassifier`:** [https://scikit-learn.org/stable/modules/generated/sklearn.ensemble.RandomForestClassifier.html](https://scikit-learn.org/stable/modules/generated/sklearn.ensemble.RandomForestClassifier.html)\n",
        "*   **Scikit-learn documentation on Feature Importance in Random Forests:** [https://scikit-learn.org/stable/modules/generated/sklearn.ensemble.RandomForestClassifier.html#sklearn-ensemble-randomforestclassifier-feature-importances_](https://scikit-learn.org/stable/modules/generated/sklearn.ensemble.RandomForestClassifier.html#sklearn-ensemble-randomforestclassifier-feature-importances_)"
      ],
      "metadata": {
        "id": "Rva-xwhTEh73"
      }
    },
    {
      "cell_type": "markdown",
      "source": [
        "### Additional Notes - Random Forest Specific Considerations:\n",
        "\n",
        "*   **Computational Cost vs. Performance:** Be mindful of the computational cost of training Random Forests, especially with large datasets and extensive hyperparameter tuning.  Experiment with smaller hyperparameter grids initially and increase complexity gradually if needed.\n",
        "\n",
        "*   **Memory Usage:** Random Forests can consume more memory than simpler models, especially with a large number of trees and deep trees.\n",
        "\n",
        "*   **Interpretability Trade-off:** While feature importance provides some insight, Random Forests are less interpretable than linear models or single decision trees. If interpretability is a primary concern, consider simpler models or techniques for explaining Random Forest predictions (e.g., SHAP values, LIME - which are more advanced topics).\n",
        "\n",
        "*   **Out-of-Bag Error:** Random Forests have a built-in way to estimate generalization error without needing a separate validation set, called \"out-of-bag (OOB) error\".  You can explore the `oob_score=True` parameter in `RandomForestClassifier` to get OOB error estimates.\n",
        "\n",
        "*   **Feature Scaling:** Unlike some models (like distance-based algorithms or neural networks), Random Forests are generally **not very sensitive to feature scaling**.  You typically don't need to scale TF-IDF or BoW features before using them with Random Forests. However, it's generally good practice to be aware of feature scaling and consider it if you are using models that are sensitive to it."
      ],
      "metadata": {
        "id": "SeCA7gpsEmzW"
      }
    }
  ]
}